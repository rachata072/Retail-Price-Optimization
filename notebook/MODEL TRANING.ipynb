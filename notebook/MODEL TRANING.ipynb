{
 "cells": [
  {
   "attachments": {},
   "cell_type": "markdown",
   "id": "de10345d-e03e-44d8-8cd0-ce638bdf6b18",
   "metadata": {},
   "source": [
    "# Model Training"
   ]
  },
  {
   "attachments": {},
   "cell_type": "markdown",
   "id": "ccb8e6ba-8026-414b-8527-24b42ec88ffb",
   "metadata": {},
   "source": [
    "## 1.1 Import Data and Required Packages"
   ]
  },
  {
   "attachments": {},
   "cell_type": "markdown",
   "id": "5a91dc44-afca-40ea-a021-341bb5aa690d",
   "metadata": {},
   "source": [
    "### Importing Pandas, Numpy, Matplotlib, Seaborn and Warings Library."
   ]
  },
  {
   "cell_type": "code",
   "execution_count": 30,
   "id": "8e01efb9-15f6-4af5-a82d-017dd92077b5",
   "metadata": {},
   "outputs": [],
   "source": [
    "import numpy as np\n",
    "import pandas as pd\n",
    "import matplotlib.pyplot as plt\n",
    "import seaborn as sns\n",
    "\n",
    "from sklearn.cluster import KMeans\n",
    "from sklearn.ensemble import RandomForestClassifier\n",
    "from sklearn.model_selection import train_test_split\n",
    "from sklearn.metrics import mean_absolute_error\n",
    "from sklearn.metrics import mean_squared_error, r2_score\n",
    "from sklearn.metrics import mean_squared_log_error\n",
    "from sklearn.ensemble import RandomForestRegressor, AdaBoostRegressor\n",
    "from sklearn.neighbors import KNeighborsRegressor\n",
    "from sklearn.tree import DecisionTreeRegressor\n",
    "from sklearn.svm import SVR\n",
    "from sklearn.linear_model import LinearRegression, Ridge, Lasso\n",
    "from sklearn.model_selection import RandomizedSearchCV\n",
    "from catboost import CatBoostRegressor\n",
    "from xgboost import XGBRegressor\n",
    "import warnings"
   ]
  },
  {
   "attachments": {},
   "cell_type": "markdown",
   "id": "1a682dde-514e-487b-9768-a2c0d12d9e45",
   "metadata": {},
   "source": [
    "## Import the CSV Data as Pandas DataFrame"
   ]
  },
  {
   "cell_type": "code",
   "execution_count": 31,
   "id": "6f0976e7-fdf5-44a6-9a61-eec6735de0e2",
   "metadata": {},
   "outputs": [],
   "source": [
    "df = pd.read_csv('data/supermarket_sales.csv')"
   ]
  },
  {
   "attachments": {},
   "cell_type": "markdown",
   "id": "6afb4a1f-5604-4ea3-8e14-16876256c46e",
   "metadata": {},
   "source": [
    "## Show Top 5 Records"
   ]
  },
  {
   "cell_type": "code",
   "execution_count": 32,
   "id": "662beb8e-20b8-4d45-bddd-f2d803525ff1",
   "metadata": {},
   "outputs": [
    {
     "data": {
      "text/html": [
       "<div>\n",
       "<style scoped>\n",
       "    .dataframe tbody tr th:only-of-type {\n",
       "        vertical-align: middle;\n",
       "    }\n",
       "\n",
       "    .dataframe tbody tr th {\n",
       "        vertical-align: top;\n",
       "    }\n",
       "\n",
       "    .dataframe thead th {\n",
       "        text-align: right;\n",
       "    }\n",
       "</style>\n",
       "<table border=\"1\" class=\"dataframe\">\n",
       "  <thead>\n",
       "    <tr style=\"text-align: right;\">\n",
       "      <th></th>\n",
       "      <th>Invoice ID</th>\n",
       "      <th>Branch</th>\n",
       "      <th>City</th>\n",
       "      <th>Customer type</th>\n",
       "      <th>Gender</th>\n",
       "      <th>Product line</th>\n",
       "      <th>Unit price</th>\n",
       "      <th>Quantity</th>\n",
       "      <th>Tax 5%</th>\n",
       "      <th>Total</th>\n",
       "      <th>Date</th>\n",
       "      <th>Time</th>\n",
       "      <th>Payment</th>\n",
       "      <th>cogs</th>\n",
       "      <th>gross margin percentage</th>\n",
       "      <th>gross income</th>\n",
       "      <th>Rating</th>\n",
       "    </tr>\n",
       "  </thead>\n",
       "  <tbody>\n",
       "    <tr>\n",
       "      <th>0</th>\n",
       "      <td>750-67-8428</td>\n",
       "      <td>A</td>\n",
       "      <td>Yangon</td>\n",
       "      <td>Member</td>\n",
       "      <td>Female</td>\n",
       "      <td>Health and beauty</td>\n",
       "      <td>74.69</td>\n",
       "      <td>7</td>\n",
       "      <td>26.1415</td>\n",
       "      <td>548.9715</td>\n",
       "      <td>1/5/2019</td>\n",
       "      <td>13:08</td>\n",
       "      <td>Ewallet</td>\n",
       "      <td>522.83</td>\n",
       "      <td>4.761905</td>\n",
       "      <td>26.1415</td>\n",
       "      <td>9.1</td>\n",
       "    </tr>\n",
       "    <tr>\n",
       "      <th>1</th>\n",
       "      <td>226-31-3081</td>\n",
       "      <td>C</td>\n",
       "      <td>Naypyitaw</td>\n",
       "      <td>Normal</td>\n",
       "      <td>Female</td>\n",
       "      <td>Electronic accessories</td>\n",
       "      <td>15.28</td>\n",
       "      <td>5</td>\n",
       "      <td>3.8200</td>\n",
       "      <td>80.2200</td>\n",
       "      <td>3/8/2019</td>\n",
       "      <td>10:29</td>\n",
       "      <td>Cash</td>\n",
       "      <td>76.40</td>\n",
       "      <td>4.761905</td>\n",
       "      <td>3.8200</td>\n",
       "      <td>9.6</td>\n",
       "    </tr>\n",
       "    <tr>\n",
       "      <th>2</th>\n",
       "      <td>631-41-3108</td>\n",
       "      <td>A</td>\n",
       "      <td>Yangon</td>\n",
       "      <td>Normal</td>\n",
       "      <td>Male</td>\n",
       "      <td>Home and lifestyle</td>\n",
       "      <td>46.33</td>\n",
       "      <td>7</td>\n",
       "      <td>16.2155</td>\n",
       "      <td>340.5255</td>\n",
       "      <td>3/3/2019</td>\n",
       "      <td>13:23</td>\n",
       "      <td>Credit card</td>\n",
       "      <td>324.31</td>\n",
       "      <td>4.761905</td>\n",
       "      <td>16.2155</td>\n",
       "      <td>7.4</td>\n",
       "    </tr>\n",
       "    <tr>\n",
       "      <th>3</th>\n",
       "      <td>123-19-1176</td>\n",
       "      <td>A</td>\n",
       "      <td>Yangon</td>\n",
       "      <td>Member</td>\n",
       "      <td>Male</td>\n",
       "      <td>Health and beauty</td>\n",
       "      <td>58.22</td>\n",
       "      <td>8</td>\n",
       "      <td>23.2880</td>\n",
       "      <td>489.0480</td>\n",
       "      <td>1/27/2019</td>\n",
       "      <td>20:33</td>\n",
       "      <td>Ewallet</td>\n",
       "      <td>465.76</td>\n",
       "      <td>4.761905</td>\n",
       "      <td>23.2880</td>\n",
       "      <td>8.4</td>\n",
       "    </tr>\n",
       "    <tr>\n",
       "      <th>4</th>\n",
       "      <td>373-73-7910</td>\n",
       "      <td>A</td>\n",
       "      <td>Yangon</td>\n",
       "      <td>Normal</td>\n",
       "      <td>Male</td>\n",
       "      <td>Sports and travel</td>\n",
       "      <td>86.31</td>\n",
       "      <td>7</td>\n",
       "      <td>30.2085</td>\n",
       "      <td>634.3785</td>\n",
       "      <td>2/8/2019</td>\n",
       "      <td>10:37</td>\n",
       "      <td>Ewallet</td>\n",
       "      <td>604.17</td>\n",
       "      <td>4.761905</td>\n",
       "      <td>30.2085</td>\n",
       "      <td>5.3</td>\n",
       "    </tr>\n",
       "  </tbody>\n",
       "</table>\n",
       "</div>"
      ],
      "text/plain": [
       "    Invoice ID Branch       City Customer type  Gender  \\\n",
       "0  750-67-8428      A     Yangon        Member  Female   \n",
       "1  226-31-3081      C  Naypyitaw        Normal  Female   \n",
       "2  631-41-3108      A     Yangon        Normal    Male   \n",
       "3  123-19-1176      A     Yangon        Member    Male   \n",
       "4  373-73-7910      A     Yangon        Normal    Male   \n",
       "\n",
       "             Product line  Unit price  Quantity   Tax 5%     Total       Date  \\\n",
       "0       Health and beauty       74.69         7  26.1415  548.9715   1/5/2019   \n",
       "1  Electronic accessories       15.28         5   3.8200   80.2200   3/8/2019   \n",
       "2      Home and lifestyle       46.33         7  16.2155  340.5255   3/3/2019   \n",
       "3       Health and beauty       58.22         8  23.2880  489.0480  1/27/2019   \n",
       "4       Sports and travel       86.31         7  30.2085  634.3785   2/8/2019   \n",
       "\n",
       "    Time      Payment    cogs  gross margin percentage  gross income  Rating  \n",
       "0  13:08      Ewallet  522.83                 4.761905       26.1415     9.1  \n",
       "1  10:29         Cash   76.40                 4.761905        3.8200     9.6  \n",
       "2  13:23  Credit card  324.31                 4.761905       16.2155     7.4  \n",
       "3  20:33      Ewallet  465.76                 4.761905       23.2880     8.4  \n",
       "4  10:37      Ewallet  604.17                 4.761905       30.2085     5.3  "
      ]
     },
     "execution_count": 32,
     "metadata": {},
     "output_type": "execute_result"
    }
   ],
   "source": [
    "df.head()"
   ]
  },
  {
   "attachments": {},
   "cell_type": "markdown",
   "id": "4181cd7b-accc-40da-92b4-fa8099d17efb",
   "metadata": {},
   "source": [
    "We want to understand the different types of customers and tailor our marketing and sales strategies accordingly, so we have to apply machine learning algorithms to the dataset. For example, we can use a clustering algorithm to group the customers into different segments based on their spending patterns and preferences"
   ]
  },
  {
   "attachments": {},
   "cell_type": "markdown",
   "id": "06ceff6e-60b2-4ab7-b526-eb31bb86f8e6",
   "metadata": {},
   "source": [
    "# K-Means"
   ]
  },
  {
   "cell_type": "code",
   "execution_count": 33,
   "id": "90051034-f05e-4a23-9a52-3ad1e5baa2f5",
   "metadata": {},
   "outputs": [
    {
     "name": "stdout",
     "output_type": "stream",
     "text": [
      "Segment\n",
      "0    403.044149\n",
      "1    132.628777\n",
      "2    759.660586\n",
      "Name: Total, dtype: float64\n"
     ]
    }
   ],
   "source": [
    "# using K-Means clustering algorithm to group the customers into three segment\n",
    "\n",
    "# create a new DataFrame with only the relevant columns\n",
    "df_clustering = df[['Customer type', 'Gender', 'Total']]\n",
    "\n",
    "# apply one-hot encoding to the categorical columns\n",
    "df_clustering = pd.get_dummies(df_clustering)\n",
    "\n",
    "# initialize the K-Means model with 3 clusters\n",
    "kmeans = KMeans(n_clusters=3)\n",
    "\n",
    "# fit the model to the data\n",
    "kmeans.fit(df_clustering)\n",
    "\n",
    "# predict the clusters for each data point\n",
    "predicted_clusters = kmeans.predict(df_clustering)\n",
    "\n",
    "# add the predicted clusters as a new column to the DataFrame\n",
    "df_clustering['Segment'] = predicted_clusters\n",
    "\n",
    "# group the data by segment and calculate the averae total amount spent by each segment\n",
    "df_segment_sales = df_clustering.groupby('Segment')['Total'].mean()\n",
    "print(df_segment_sales)"
   ]
  },
  {
   "attachments": {},
   "cell_type": "markdown",
   "id": "64ff3a8c-8936-42e8-b51c-145d1c912837",
   "metadata": {},
   "source": [
    "Based on the result of the clustering is presented with three segment(0, 1, 2) and the number of customers in each segment, grouped by different customer type and genders.\n",
    "\n",
    "Segment 0 has the highest mean spending per customer, with value of 759.66. We can suggest that customer in this segment are likely to be high spenders and may be interested in premium or luxury products. Segment 1 has the lowest mean spending per customer, with a value of 132.63, indicating that these customers are likely to be more price-sensitive and may be interested in values or budget products. Finally, segment 2 has a mederate mean spending per customer, with a value of 403.04, suggesting these customers may be interested in products that offer a balance between quality and affordabillity."
   ]
  },
  {
   "cell_type": "code",
   "execution_count": 34,
   "id": "ac10dac7-c8ae-44db-bbbe-abec805b867d",
   "metadata": {},
   "outputs": [
    {
     "name": "stdout",
     "output_type": "stream",
     "text": [
      "Segment  Customer type_Member  Customer type_Normal\n",
      "0        0                     1                       150\n",
      "         1                     0                       162\n",
      "1        0                     1                       267\n",
      "         1                     0                       252\n",
      "2        0                     1                        82\n",
      "         1                     0                        87\n",
      "dtype: int64\n"
     ]
    }
   ],
   "source": [
    "# group the data by segment and customer type\n",
    "df_segment_type = df_clustering.groupby(['Segment', 'Customer type_Member', 'Customer type_Normal']).size()\n",
    "\n",
    "print(df_segment_type)"
   ]
  },
  {
   "cell_type": "code",
   "execution_count": 35,
   "id": "02ed0488-934a-4231-b3d5-f7c5627d28e6",
   "metadata": {},
   "outputs": [
    {
     "name": "stdout",
     "output_type": "stream",
     "text": [
      "Segment  Gender_Male  Gender_Female\n",
      "0        0            1                168\n",
      "         1            0                144\n",
      "1        0            1                247\n",
      "         1            0                272\n",
      "2        0            1                 86\n",
      "         1            0                 83\n",
      "dtype: int64\n"
     ]
    }
   ],
   "source": [
    "# group the data by segment and gender\n",
    "df_segment_gender = df_clustering.groupby(['Segment', 'Gender_Male', 'Gender_Female']).size()\n",
    "\n",
    "print(df_segment_gender)"
   ]
  },
  {
   "attachments": {},
   "cell_type": "markdown",
   "id": "bc019e94-9921-4e2c-8c51-3fd933a6df89",
   "metadata": {},
   "source": [
    "Look at the customer type and gender we can see that, Segment 0 has rougly equal numbers of male and female customer, while Segment 1 has more female customers than male customers. This information could be useful in tailoring marketing and sales strategies to different segments."
   ]
  },
  {
   "attachments": {},
   "cell_type": "markdown",
   "id": "9a94fa48-ea9f-4c94-89d2-ebb41aeece39",
   "metadata": {},
   "source": [
    "For intance, promotions for luxury products could be targeted towards Segment 0, while promotions for budget products could be targeted towards Segment 1."
   ]
  },
  {
   "attachments": {},
   "cell_type": "markdown",
   "id": "6c0ceace-e3cc-41fc-9a0b-a6dadeef2a75",
   "metadata": {},
   "source": [
    "## Random Forest Classification"
   ]
  },
  {
   "attachments": {},
   "cell_type": "markdown",
   "id": "c613235d-e948-44a0-95f4-4ffb4d8d7cb3",
   "metadata": {},
   "source": [
    "using random forest classification algorithm to predict the customer ratings based on the other features in the dataset. This can help us understand the facter that influence customer ratings and improve our services to increase customer stisfaction."
   ]
  },
  {
   "cell_type": "code",
   "execution_count": 36,
   "id": "1eb1ecb0-69e1-4512-af3f-0801eeabc525",
   "metadata": {},
   "outputs": [
    {
     "name": "stdout",
     "output_type": "stream",
     "text": [
      "Accuracy : 0.33\n"
     ]
    }
   ],
   "source": [
    "# create a new DataFrame with only the relevant columns\n",
    "df_classification = df[['Customer type', 'Gender', 'Product line', 'Unit price','Quantity', 'Tax 5%', 'Total', 'Payment', 'cogs', 'gross margin percentage', 'gross income', 'Rating']]\n",
    "\n",
    "# apply one-hot encoding to the categorical columns\n",
    "df_classification = pd.get_dummies(df_classification)\n",
    "\n",
    "# convert the numeric target variable into a categorical variable by binning the values in to 3 bins\n",
    "df_classification['Rating'] = pd.cut(df_classification['Rating'], bins=3, labels=[1,2,3])\n",
    "\n",
    "# split the data into training and testing sets\n",
    "X_train, X_test, y_train, y_test = train_test_split(df_classification.drop('Rating', axis=1), df_classification['Rating'], test_size = 0.2)\n",
    "\n",
    "# initialize the Random Forest model\n",
    "random_forest = RandomForestClassifier()\n",
    "\n",
    "# fit the model to the traing data\n",
    "random_forest.fit(X_train, y_train)\n",
    "\n",
    "# predict the ratings for the test data\n",
    "predicted_ratings = random_forest.predict(X_test)\n",
    "\n",
    "# calculate the accuracy of the predictions\n",
    "accuracy = random_forest.score(X_test, y_test)\n",
    "print(\"Accuracy :\", accuracy)"
   ]
  },
  {
   "attachments": {},
   "cell_type": "markdown",
   "id": "f77369aa-796a-434b-9ac7-05d95d3bbd15",
   "metadata": {},
   "source": [
    "The code uses Random Forest classification to predict customer ratings based on dataset features. It aims to understand factors influencing ratings and improve services for increased customer satisfaction. Relevant columns are selected and one-hot encoded. The numeric rating is transformed into a categorical variable. Data is split into training and testing sets. Random Forest classifier is trained and used for rating predictions. Accuracy is calculated and printed as 0.38, indicating alignment with actual ratings around 38.0% of the time."
   ]
  },
  {
   "attachments": {},
   "cell_type": "markdown",
   "id": "aff5c51f-02cf-4b54-ac79-ec2a17ba8b90",
   "metadata": {},
   "source": [
    "### Mean absolute error"
   ]
  },
  {
   "cell_type": "code",
   "execution_count": 37,
   "id": "7718247a-364a-4335-b95b-e956c8a18b1f",
   "metadata": {},
   "outputs": [
    {
     "name": "stdout",
     "output_type": "stream",
     "text": [
      "Mean absolute error: 0.865\n"
     ]
    }
   ],
   "source": [
    "# calculate the mean absolute error between the predicted and actual rating\n",
    "mae = mean_absolute_error(y_test, predicted_ratings)\n",
    "\n",
    "print('Mean absolute error:', mae)"
   ]
  },
  {
   "attachments": {},
   "cell_type": "markdown",
   "id": "27ad1216-b450-4bc0-8b71-87f1452a0773",
   "metadata": {},
   "source": [
    "A lower mean absolute error typically suggests more accurate predictions from the model, while a higher mean absolute error indicates less accuracy. In this case, a mean absolute error of 0.98 suggests that the model is making relatively accurate predictions."
   ]
  },
  {
   "attachments": {},
   "cell_type": "markdown",
   "id": "0103fde7-6fe0-4e37-8923-938d19376a40",
   "metadata": {},
   "source": [
    "### Mean Squared error"
   ]
  },
  {
   "cell_type": "code",
   "execution_count": 38,
   "id": "7a8ca6dc-24a9-4eee-955e-49cc74e95f86",
   "metadata": {},
   "outputs": [
    {
     "name": "stdout",
     "output_type": "stream",
     "text": [
      "Mean Squared Error 1.255\n"
     ]
    }
   ],
   "source": [
    "# calculate the mean squared error between the predicted and actual rating\n",
    "mse = mean_squared_error(y_test, predicted_ratings)\n",
    "\n",
    "print('Mean Squared Error', mse)"
   ]
  },
  {
   "attachments": {},
   "cell_type": "markdown",
   "id": "d6d33223-14dc-4c3a-b5e6-eaefe916f673",
   "metadata": {},
   "source": [
    "A lower mean square error typically suggest more accurate predictions from model, while a higher mean square error indicates less accuracy. in this case. a mean square error of 1.45 suggest that model is making relatively accurate predictions."
   ]
  },
  {
   "attachments": {},
   "cell_type": "markdown",
   "id": "89192203-1b8d-4e33-a251-ee95d8a7bb7b",
   "metadata": {},
   "source": [
    "### Root Mean Squared Error"
   ]
  },
  {
   "cell_type": "code",
   "execution_count": 39,
   "id": "a0db2553-4d04-4714-9e3d-05bcc1775e21",
   "metadata": {},
   "outputs": [
    {
     "name": "stdout",
     "output_type": "stream",
     "text": [
      "Root Mean Squared Error: 0.15259363572879464\n"
     ]
    }
   ],
   "source": [
    "# calculate root mean squared error between the predicted and actual rating\n",
    "rmse = mean_squared_log_error(y_test, predicted_ratings)\n",
    "\n",
    "print('Root Mean Squared Error:', rmse)"
   ]
  },
  {
   "attachments": {},
   "cell_type": "markdown",
   "id": "77c1732d-7931-420b-b082-96e33bb74b73",
   "metadata": {},
   "source": [
    "A lower root mean squared error typically suggest more accurate predictions from model, while a higher root mean squared error indicates less accuracy. in this case. a root mean squared error of 0.17 suggest that model is making relatively accurate predictions."
   ]
  },
  {
   "attachments": {},
   "cell_type": "markdown",
   "id": "f4000c38-cbaa-4a4e-8335-f83b22353c19",
   "metadata": {},
   "source": [
    "## Predict the customer ratings for new data"
   ]
  },
  {
   "cell_type": "code",
   "execution_count": 40,
   "id": "d931bdc9-5f99-4b58-a492-16fc2c104b1b",
   "metadata": {},
   "outputs": [
    {
     "name": "stdout",
     "output_type": "stream",
     "text": [
      "[3 3 2 2 1 1 1 2 1 1 1 2 2 3 1 1 1 2 3 2 1 1 1 3 1 3 2 3 3 2 1 1 1 1 2 3 2\n",
      " 1 2 2 2 2 1 2 2 3 2 1 3 1 3 3 1 2 2 2 2 2 2 3 3 2 1 3 2 1 2 3 2 1 1 1 2 3\n",
      " 3 1 3 1 1 2 1 2 2 2 2 2 3 2 1 3 2 3 1 3 3 2 1 1 2 2 1 2 1 3 2 2 2 2 2 3 1\n",
      " 2 3 2 3 1 1 1 1 1 1 2 1 3 2 1 3 1 3 2 2 3 3 3 2 2 3 3 3 3 1 1 1 3 2 3 3 1\n",
      " 3 1 1 1 2 3 3 3 2 3 2 3 3 1 2 2 1 1 1 3 2 3 1 3 2 3 2 3 3 2 1 3 3 2 2 1 2\n",
      " 2 2 2 3 1 2 1 3 1 3 1 1 2 3 1 2 2 3 3 1 1 2 2 1 1 1 3 1 1 2 3 3 1 3 2 2 1\n",
      " 3 3 2 3 1 3 1 2 2 3 2 2 2 2 1 3 1 3 1 1 1 1 3 3 1 2 3 1 2 3 2 1 3 2 3 2 2\n",
      " 2 2 1 1 1 2 3 2 3 1 2 1 3 3 1 2 2 2 2 1 3 2 2 2 3 3 2 2 3 3 1 2 1 1 2 1 2\n",
      " 2 1 1 2 2 1 1 1 3 1 3 1 1 2 1 3 1 1 1 1 2 1 3 1 1 2 3 2 3 2 3 3 1 2 2 1 1\n",
      " 2 3 3 2 1 3 3 2 3 2 3 2 2 2 1 2 1 3 1 3 1 2 2 3 1 2 1 2 3 2 2 2 2 1 1 1 2\n",
      " 3 1 2 3 3 2 3 3 3 2 2 1 3 1 3 1 1 3 3 2 3 3 2 2 2 1 1 1 3 2 3 2 2 3 1 2 1\n",
      " 1 1 3 3 2 2 2 3 2 3 3 3 3 2 3 3 2 1 1 3 2 2 2 2 1 2 3 2 3 2 2 2 2 3 1 2 1\n",
      " 3 3 3 2 1 3 2 2 1 1 1 2 3 2 1 2 1 3 2 3 3 2 2 1 2 3 1 3 1 3 2 2 1 2 2 2 3\n",
      " 2 1 1 2 2 3 3 1 3 1 2 3 3 2 1 3 2 3 3 3 3 3 2 3 3 2 2 2 1 2 2 3 2 2 3 3 3\n",
      " 3 1 2 1 1 1 2 2 2 3 3 3 2 2 3 2 2 2 1 2 1 1 3 2 1 1 2 2 3 1 1 2 2 3 3 3 2\n",
      " 2 3 1 1 3 2 1 1 1 3 2 3 2 1 3 2 3 3 3 3 2 1 3 2 3 2 3 2 1 2 3 3 2 1 1 3 2\n",
      " 3 1 2 3 3 1 3 3 2 1 2 1 1 3 1 2 1 2 2 2 2 3 1 1 1 1 3 3 3 3 1 1 3 3 3 1 2\n",
      " 3 2 2 2 1 1 1 1 2 3 2 2 1 1 3 1 3 2 2 2 2 2 3 2 1 3 1 2 2 1 1 3 2 1 3 2 2\n",
      " 2 2 1 1 1 1 1 1 1 1 2 1 3 3 2 2 2 2 1 2 3 1 2 2 2 1 3 3 2 2 2 1 2 2 2 1 2\n",
      " 3 2 3 2 1 3 2 3 3 2 1 3 2 1 3 2 2 2 1 2 3 2 2 1 3 2 3 1 2 3 3 2 1 3 3 2 3\n",
      " 3 3 3 2 1 3 1 1 1 3 1 3 2 3 2 2 1 1 1 2 1 1 1 2 2 1 3 2 2 1 1 2 1 2 1 2 3\n",
      " 3 2 1 2 2 3 3 1 1 3 3 1 1 1 3 1 3 2 1 1 3 3 1 2 1 2 3 2 1 3 3 3 1 3 1 2 1\n",
      " 1 1 3 1 3 1 2 1 1 2 2 2 2 3 1 1 2 3 1 3 2 1 1 1 1 1 2 1 1 3 1 1 3 3 1 2 1\n",
      " 3 1 3 3 1 2 3 1 1 2 2 1 2 2 2 2 1 1 3 2 3 2 3 1 2 1 2 1 3 1 3 3 2 2 1 2 3\n",
      " 1 1 2 3 3 2 3 1 2 3 1 1 2 1 1 3 1 2 1 2 2 1 2 3 2 2 1 1 3 2 3 2 1 2 1 2 2\n",
      " 1 1 2 2 2 2 2 1 2 3 1 2 2 1 1 2 2 1 1 1 2 2 1 2 3 2 2 1 2 3 2 1 2 2 3 3 3\n",
      " 2 2 2 1 2 3 3 3 3 2 1 1 3 2 2 1 2 2 1 2 2 2 1 3 1 2 1 3 1 1 3 2 1 2 1 3 1\n",
      " 2]\n"
     ]
    }
   ],
   "source": [
    "# create a new DataFrame with only the relevant columns\n",
    "df_new = df[['Customer type', 'Gender', 'Product line', 'Unit price', 'Quantity', 'Tax 5%', 'Total', 'Payment', 'cogs', 'gross margin percentage', 'gross income']]\n",
    "\n",
    "# apply one-hot encoding to the categorical columns\n",
    "df_new = pd.get_dummies(df_new)\n",
    "\n",
    "# predict the ratings for the new data\n",
    "predicted_ratings = random_forest.predict(df_new)\n",
    "\n",
    "# print the predicted ratings\n",
    "print(predicted_ratings)"
   ]
  },
  {
   "attachments": {},
   "cell_type": "markdown",
   "id": "ab915e54-5572-42f0-9be7-3aaaf5f503bf",
   "metadata": {},
   "source": [
    "Next, using regression algorithm to predict the total sales for each city based on the other attributes in the dataset.This can help us understand the factors that influence sales and improve our marketing and sales strategies to increase revenue. "
   ]
  },
  {
   "attachments": {},
   "cell_type": "markdown",
   "id": "2ed0337c-c5ca-4337-a67a-d245c8d1c8d3",
   "metadata": {},
   "source": [
    "### preparing X and Y variables"
   ]
  },
  {
   "cell_type": "code",
   "execution_count": 41,
   "id": "847f333b-415d-4169-a107-45a07ccf435d",
   "metadata": {},
   "outputs": [
    {
     "data": {
      "text/html": [
       "<div>\n",
       "<style scoped>\n",
       "    .dataframe tbody tr th:only-of-type {\n",
       "        vertical-align: middle;\n",
       "    }\n",
       "\n",
       "    .dataframe tbody tr th {\n",
       "        vertical-align: top;\n",
       "    }\n",
       "\n",
       "    .dataframe thead th {\n",
       "        text-align: right;\n",
       "    }\n",
       "</style>\n",
       "<table border=\"1\" class=\"dataframe\">\n",
       "  <thead>\n",
       "    <tr style=\"text-align: right;\">\n",
       "      <th></th>\n",
       "      <th>Branch</th>\n",
       "      <th>City</th>\n",
       "      <th>Customer type</th>\n",
       "      <th>Gender</th>\n",
       "      <th>Product line</th>\n",
       "      <th>Unit price</th>\n",
       "      <th>Quantity</th>\n",
       "      <th>Tax 5%</th>\n",
       "      <th>Payment</th>\n",
       "      <th>cogs</th>\n",
       "      <th>gross margin percentage</th>\n",
       "      <th>gross income</th>\n",
       "    </tr>\n",
       "  </thead>\n",
       "  <tbody>\n",
       "    <tr>\n",
       "      <th>0</th>\n",
       "      <td>A</td>\n",
       "      <td>Yangon</td>\n",
       "      <td>Member</td>\n",
       "      <td>Female</td>\n",
       "      <td>Health and beauty</td>\n",
       "      <td>74.69</td>\n",
       "      <td>7</td>\n",
       "      <td>26.1415</td>\n",
       "      <td>Ewallet</td>\n",
       "      <td>522.83</td>\n",
       "      <td>4.761905</td>\n",
       "      <td>26.1415</td>\n",
       "    </tr>\n",
       "    <tr>\n",
       "      <th>1</th>\n",
       "      <td>C</td>\n",
       "      <td>Naypyitaw</td>\n",
       "      <td>Normal</td>\n",
       "      <td>Female</td>\n",
       "      <td>Electronic accessories</td>\n",
       "      <td>15.28</td>\n",
       "      <td>5</td>\n",
       "      <td>3.8200</td>\n",
       "      <td>Cash</td>\n",
       "      <td>76.40</td>\n",
       "      <td>4.761905</td>\n",
       "      <td>3.8200</td>\n",
       "    </tr>\n",
       "    <tr>\n",
       "      <th>2</th>\n",
       "      <td>A</td>\n",
       "      <td>Yangon</td>\n",
       "      <td>Normal</td>\n",
       "      <td>Male</td>\n",
       "      <td>Home and lifestyle</td>\n",
       "      <td>46.33</td>\n",
       "      <td>7</td>\n",
       "      <td>16.2155</td>\n",
       "      <td>Credit card</td>\n",
       "      <td>324.31</td>\n",
       "      <td>4.761905</td>\n",
       "      <td>16.2155</td>\n",
       "    </tr>\n",
       "    <tr>\n",
       "      <th>3</th>\n",
       "      <td>A</td>\n",
       "      <td>Yangon</td>\n",
       "      <td>Member</td>\n",
       "      <td>Male</td>\n",
       "      <td>Health and beauty</td>\n",
       "      <td>58.22</td>\n",
       "      <td>8</td>\n",
       "      <td>23.2880</td>\n",
       "      <td>Ewallet</td>\n",
       "      <td>465.76</td>\n",
       "      <td>4.761905</td>\n",
       "      <td>23.2880</td>\n",
       "    </tr>\n",
       "    <tr>\n",
       "      <th>4</th>\n",
       "      <td>A</td>\n",
       "      <td>Yangon</td>\n",
       "      <td>Normal</td>\n",
       "      <td>Male</td>\n",
       "      <td>Sports and travel</td>\n",
       "      <td>86.31</td>\n",
       "      <td>7</td>\n",
       "      <td>30.2085</td>\n",
       "      <td>Ewallet</td>\n",
       "      <td>604.17</td>\n",
       "      <td>4.761905</td>\n",
       "      <td>30.2085</td>\n",
       "    </tr>\n",
       "  </tbody>\n",
       "</table>\n",
       "</div>"
      ],
      "text/plain": [
       "  Branch       City Customer type  Gender            Product line  Unit price  \\\n",
       "0      A     Yangon        Member  Female       Health and beauty       74.69   \n",
       "1      C  Naypyitaw        Normal  Female  Electronic accessories       15.28   \n",
       "2      A     Yangon        Normal    Male      Home and lifestyle       46.33   \n",
       "3      A     Yangon        Member    Male       Health and beauty       58.22   \n",
       "4      A     Yangon        Normal    Male       Sports and travel       86.31   \n",
       "\n",
       "   Quantity   Tax 5%      Payment    cogs  gross margin percentage  \\\n",
       "0         7  26.1415      Ewallet  522.83                 4.761905   \n",
       "1         5   3.8200         Cash   76.40                 4.761905   \n",
       "2         7  16.2155  Credit card  324.31                 4.761905   \n",
       "3         8  23.2880      Ewallet  465.76                 4.761905   \n",
       "4         7  30.2085      Ewallet  604.17                 4.761905   \n",
       "\n",
       "   gross income  \n",
       "0       26.1415  \n",
       "1        3.8200  \n",
       "2       16.2155  \n",
       "3       23.2880  \n",
       "4       30.2085  "
      ]
     },
     "execution_count": 41,
     "metadata": {},
     "output_type": "execute_result"
    }
   ],
   "source": [
    "# craete a new dataframe with only the relavant columns\n",
    "X = df[['Branch', 'City', 'Customer type', 'Gender', 'Product line', 'Unit price', 'Quantity', 'Tax 5%', 'Payment', 'cogs', 'gross margin percentage', 'gross income']]\n",
    "X.head()"
   ]
  },
  {
   "attachments": {},
   "cell_type": "markdown",
   "id": "8d8ca239-fef8-42c8-ba49-c43e4a2ebd27",
   "metadata": {},
   "source": [
    "print out for check unique values of each categories column"
   ]
  },
  {
   "cell_type": "code",
   "execution_count": 42,
   "id": "b09d2d28-8cb6-483c-bbdc-6078d8372e45",
   "metadata": {},
   "outputs": [
    {
     "name": "stdout",
     "output_type": "stream",
     "text": [
      "Categories in 'Branch' variable:  ['A' 'C' 'B']\n",
      "Categories in 'City' variable:  ['Yangon' 'Naypyitaw' 'Mandalay']\n",
      "Categories in 'Customer type' variable:  ['Member' 'Normal']\n",
      "Categories in 'Product line' variable:  ['Health and beauty' 'Electronic accessories' 'Home and lifestyle'\n",
      " 'Sports and travel' 'Food and beverages' 'Fashion accessories']\n",
      "Categories in 'Payment' variable:  ['Ewallet' 'Cash' 'Credit card']\n"
     ]
    }
   ],
   "source": [
    "print(\"Categories in 'Branch' variable: \", end=\" \")\n",
    "print(df['Branch'].unique())\n",
    "\n",
    "print(\"Categories in 'City' variable: \", end=\" \")\n",
    "print(df['City'].unique())\n",
    "\n",
    "print(\"Categories in 'Customer type' variable: \", end=\" \")\n",
    "print(df['Customer type'].unique())\n",
    "\n",
    "print(\"Categories in 'Product line' variable: \", end=\" \")\n",
    "print(df['Product line'].unique())\n",
    "\n",
    "print(\"Categories in 'Payment' variable: \", end=\" \")\n",
    "print(df['Payment'].unique())"
   ]
  },
  {
   "cell_type": "code",
   "execution_count": 43,
   "id": "c7eed9d2-a067-434b-845a-733fbd6ba53c",
   "metadata": {},
   "outputs": [
    {
     "data": {
      "text/plain": [
       "0       548.9715\n",
       "1        80.2200\n",
       "2       340.5255\n",
       "3       489.0480\n",
       "4       634.3785\n",
       "         ...    \n",
       "995      42.3675\n",
       "996    1022.4900\n",
       "997      33.4320\n",
       "998      69.1110\n",
       "999     649.2990\n",
       "Name: Total, Length: 1000, dtype: float64"
      ]
     },
     "execution_count": 43,
     "metadata": {},
     "output_type": "execute_result"
    }
   ],
   "source": [
    "y = df['Total']\n",
    "y"
   ]
  },
  {
   "cell_type": "code",
   "execution_count": 44,
   "id": "c5d0aaed-ef50-4f52-8c5d-1a9401be628e",
   "metadata": {},
   "outputs": [],
   "source": [
    "# Create Column Transformer with 3 types of transformer\n",
    "\n",
    "# selects columns from the DataFrame X based on their data type, it selects only the columns that contain numeric data.\n",
    "num_feature = X.select_dtypes(exclude=\"object\").columns\n",
    "\n",
    "# selects columns from the DataFrame X based on their data type, it selects only the columns that contain categories data.\n",
    "cat_feature = X.select_dtypes(include=\"object\").columns\n",
    "\n",
    "from sklearn.preprocessing import OneHotEncoder, StandardScaler\n",
    "from sklearn.compose import ColumnTransformer\n",
    "\n",
    "# transform categorical features into binary vector\n",
    "numeric_transformer = StandardScaler()\n",
    "# standardize numerical features by subtracting the mean and scailing to unit variance\n",
    "oh_transformer = OneHotEncoder()\n",
    "\n",
    "# apply the transformations\n",
    "preprocessor = ColumnTransformer(\n",
    "    [\n",
    "        (\"OneHotEncoder\", oh_transformer, cat_feature),\n",
    "        (\"StandardScaler\", numeric_transformer, num_feature),\n",
    "    ]\n",
    ")"
   ]
  },
  {
   "cell_type": "code",
   "execution_count": 45,
   "id": "fb825e93-1690-4e19-97b5-f9abe0383be4",
   "metadata": {
    "tags": []
   },
   "outputs": [],
   "source": [
    "X = preprocessor.fit_transform(X)"
   ]
  },
  {
   "cell_type": "code",
   "execution_count": 46,
   "id": "5b03378f-eebc-4725-970a-006f0c7c06f1",
   "metadata": {},
   "outputs": [
    {
     "data": {
      "text/plain": [
       "(1000, 25)"
      ]
     },
     "execution_count": 46,
     "metadata": {},
     "output_type": "execute_result"
    }
   ],
   "source": [
    "X.shape"
   ]
  },
  {
   "cell_type": "code",
   "execution_count": 47,
   "id": "c8bab632-f475-4117-bb3c-8c2ca12b402f",
   "metadata": {},
   "outputs": [
    {
     "data": {
      "text/plain": [
       "((800, 25), (200, 25))"
      ]
     },
     "execution_count": 47,
     "metadata": {},
     "output_type": "execute_result"
    }
   ],
   "source": [
    "# separate dataset into train and test split\n",
    "from sklearn.model_selection import train_test_split\n",
    "\n",
    "X_train, X_test, y_train, y_test = train_test_split(X,y,test_size=0.2, random_state=42)\n",
    "# check the size\n",
    "X_train.shape, X_test.shape"
   ]
  },
  {
   "attachments": {},
   "cell_type": "markdown",
   "id": "9caf06f5-0818-41f3-ba11-afefd579eca3",
   "metadata": {},
   "source": [
    "### create an Evaluate Function to give all metrics after model Training"
   ]
  },
  {
   "cell_type": "code",
   "execution_count": 48,
   "id": "8ecd1dd0-14fe-4f01-9eef-6b00965efdde",
   "metadata": {},
   "outputs": [],
   "source": [
    "# define function name evaluate_model\n",
    "def evaluate_model(true, predicted):\n",
    "    # define mean absolute error, mean squared error, root mean square error and R-square\n",
    "    mae = mean_absolute_error(true, predicted) \n",
    "    mse = mean_squared_error(true, predicted)\n",
    "    rmse = np.sqrt(mean_squared_log_error(true, predicted))\n",
    "    r2_square = r2_score(true, predicted)\n",
    "    return mae, rmse, r2_square"
   ]
  },
  {
   "cell_type": "code",
   "execution_count": 49,
   "id": "9671a248-b04d-4cbe-a97f-82bd022133ed",
   "metadata": {},
   "outputs": [
    {
     "name": "stdout",
     "output_type": "stream",
     "text": [
      "Linear Regression\n",
      "Model performance for Training set\n",
      "- Root Mean Squared Error: 0.0000\n",
      "- Mean Absolute Error: 0.0000\n",
      "- R2 Score: 1.0000\n",
      "----------------------------------\n",
      "Model performance for Test set\n",
      "- Root Mean Squared Error: 0.0000\n",
      "- Mean Absolute Error: 0.0000\n",
      "- R2 Score: 1.0000\n",
      "===================================\n",
      "\n",
      "\n",
      "Lasso\n",
      "Model performance for Training set\n",
      "- Root Mean Squared Error: 0.0131\n",
      "- Mean Absolute Error: 0.8278\n",
      "- R2 Score: 1.0000\n",
      "----------------------------------\n",
      "Model performance for Test set\n",
      "- Root Mean Squared Error: 0.0132\n",
      "- Mean Absolute Error: 0.8714\n",
      "- R2 Score: 1.0000\n",
      "===================================\n",
      "\n",
      "\n",
      "Ridge\n",
      "Model performance for Training set\n",
      "- Root Mean Squared Error: 0.0064\n",
      "- Mean Absolute Error: 0.2317\n",
      "- R2 Score: 1.0000\n",
      "----------------------------------\n",
      "Model performance for Test set\n",
      "- Root Mean Squared Error: 0.0070\n",
      "- Mean Absolute Error: 0.2206\n",
      "- R2 Score: 1.0000\n",
      "===================================\n",
      "\n",
      "\n",
      "K-Neighbors Regressor\n",
      "Model performance for Training set\n",
      "- Root Mean Squared Error: 0.2298\n",
      "- Mean Absolute Error: 26.1606\n",
      "- R2 Score: 0.9816\n",
      "----------------------------------\n",
      "Model performance for Test set\n",
      "- Root Mean Squared Error: 0.3127\n",
      "- Mean Absolute Error: 34.5103\n",
      "- R2 Score: 0.9731\n",
      "===================================\n",
      "\n",
      "\n",
      "Decision Tree\n",
      "Model performance for Training set\n",
      "- Root Mean Squared Error: 0.0000\n",
      "- Mean Absolute Error: 0.0000\n",
      "- R2 Score: 1.0000\n",
      "----------------------------------\n",
      "Model performance for Test set\n",
      "- Root Mean Squared Error: 0.0140\n",
      "- Mean Absolute Error: 1.2008\n",
      "- R2 Score: 0.9999\n",
      "===================================\n",
      "\n",
      "\n",
      "Random Forest Regressor\n",
      "Model performance for Training set\n",
      "- Root Mean Squared Error: 0.0026\n",
      "- Mean Absolute Error: 0.3067\n",
      "- R2 Score: 1.0000\n",
      "----------------------------------\n",
      "Model performance for Test set\n",
      "- Root Mean Squared Error: 0.0155\n",
      "- Mean Absolute Error: 0.7164\n",
      "- R2 Score: 1.0000\n",
      "===================================\n",
      "\n",
      "\n",
      "XGBRegressor\n",
      "Model performance for Training set\n",
      "- Root Mean Squared Error: 0.0019\n",
      "- Mean Absolute Error: 0.1872\n",
      "- R2 Score: 1.0000\n",
      "----------------------------------\n",
      "Model performance for Test set\n",
      "- Root Mean Squared Error: 0.0201\n",
      "- Mean Absolute Error: 2.0473\n",
      "- R2 Score: 0.9998\n",
      "===================================\n",
      "\n",
      "\n",
      "CatBoosting Regressor\n",
      "Model performance for Training set\n",
      "- Root Mean Squared Error: 0.0104\n",
      "- Mean Absolute Error: 1.2098\n",
      "- R2 Score: 1.0000\n",
      "----------------------------------\n",
      "Model performance for Test set\n",
      "- Root Mean Squared Error: 0.0302\n",
      "- Mean Absolute Error: 2.9168\n",
      "- R2 Score: 0.9997\n",
      "===================================\n",
      "\n",
      "\n",
      "AdaBoost Regressor\n",
      "Model performance for Training set\n",
      "- Root Mean Squared Error: 0.2488\n",
      "- Mean Absolute Error: 14.5093\n",
      "- R2 Score: 0.9945\n",
      "----------------------------------\n",
      "Model performance for Test set\n",
      "- Root Mean Squared Error: 0.2395\n",
      "- Mean Absolute Error: 14.2510\n",
      "- R2 Score: 0.9951\n",
      "===================================\n",
      "\n",
      "\n"
     ]
    }
   ],
   "source": [
    "# To create dict for each models\n",
    "models = {\n",
    "    \"Linear Regression\": LinearRegression(),\n",
    "    \"Lasso\": Lasso(),\n",
    "    \"Ridge\": Ridge(),\n",
    "    \"K-Neighbors Regressor\": KNeighborsRegressor(),\n",
    "    \"Decision Tree\": DecisionTreeRegressor(),\n",
    "    \"Random Forest Regressor\": RandomForestRegressor(),\n",
    "    \"XGBRegressor\": XGBRegressor(), \n",
    "    \"CatBoosting Regressor\": CatBoostRegressor(verbose=False),\n",
    "    \"AdaBoost Regressor\": AdaBoostRegressor()\n",
    "}\n",
    "# creating list of model and evaluate for collect results\n",
    "model_list = []\n",
    "r2_list =[]\n",
    "# use for loop to fit and predict model\n",
    "for i in range(len(list(models))):\n",
    "    model = list(models.values())[i]\n",
    "    model.fit(X_train, y_train) # Train model\n",
    "\n",
    "    # Make predictions\n",
    "    y_train_pred = model.predict(X_train)\n",
    "    y_test_pred = model.predict(X_test)\n",
    "    \n",
    "    # Evaluate Train and Test dataset\n",
    "    model_train_mae , model_train_rmse, model_train_r2 = evaluate_model(y_train, y_train_pred)\n",
    "\n",
    "    model_test_mae , model_test_rmse, model_test_r2 = evaluate_model(y_test, y_test_pred)\n",
    "\n",
    "    # showing every modeling and accuracy of model\n",
    "    print(list(models.keys())[i])\n",
    "    model_list.append(list(models.keys())[i])\n",
    "    \n",
    "    print('Model performance for Training set')\n",
    "    print(\"- Root Mean Squared Error: {:.4f}\".format(model_train_rmse))\n",
    "    print(\"- Mean Absolute Error: {:.4f}\".format(model_train_mae))\n",
    "    print(\"- R2 Score: {:.4f}\".format(model_train_r2))\n",
    "\n",
    "    print('----------------------------------')\n",
    "    \n",
    "    print('Model performance for Test set')\n",
    "    print(\"- Root Mean Squared Error: {:.4f}\".format(model_test_rmse))\n",
    "    print(\"- Mean Absolute Error: {:.4f}\".format(model_test_mae))\n",
    "    print(\"- R2 Score: {:.4f}\".format(model_test_r2))\n",
    "    r2_list.append(model_test_r2)\n",
    "    \n",
    "    print('='*35)\n",
    "    print('\\n')"
   ]
  },
  {
   "cell_type": "code",
   "execution_count": 50,
   "id": "e0659eb6-e190-44ad-9341-cea3495f1bbf",
   "metadata": {},
   "outputs": [
    {
     "data": {
      "text/html": [
       "<div>\n",
       "<style scoped>\n",
       "    .dataframe tbody tr th:only-of-type {\n",
       "        vertical-align: middle;\n",
       "    }\n",
       "\n",
       "    .dataframe tbody tr th {\n",
       "        vertical-align: top;\n",
       "    }\n",
       "\n",
       "    .dataframe thead th {\n",
       "        text-align: right;\n",
       "    }\n",
       "</style>\n",
       "<table border=\"1\" class=\"dataframe\">\n",
       "  <thead>\n",
       "    <tr style=\"text-align: right;\">\n",
       "      <th></th>\n",
       "      <th>Model Name</th>\n",
       "      <th>R2_Score</th>\n",
       "    </tr>\n",
       "  </thead>\n",
       "  <tbody>\n",
       "    <tr>\n",
       "      <th>0</th>\n",
       "      <td>Linear Regression</td>\n",
       "      <td>1.000000</td>\n",
       "    </tr>\n",
       "    <tr>\n",
       "      <th>2</th>\n",
       "      <td>Ridge</td>\n",
       "      <td>0.999999</td>\n",
       "    </tr>\n",
       "    <tr>\n",
       "      <th>1</th>\n",
       "      <td>Lasso</td>\n",
       "      <td>0.999983</td>\n",
       "    </tr>\n",
       "    <tr>\n",
       "      <th>5</th>\n",
       "      <td>Random Forest Regressor</td>\n",
       "      <td>0.999977</td>\n",
       "    </tr>\n",
       "    <tr>\n",
       "      <th>4</th>\n",
       "      <td>Decision Tree</td>\n",
       "      <td>0.999941</td>\n",
       "    </tr>\n",
       "    <tr>\n",
       "      <th>6</th>\n",
       "      <td>XGBRegressor</td>\n",
       "      <td>0.999845</td>\n",
       "    </tr>\n",
       "    <tr>\n",
       "      <th>7</th>\n",
       "      <td>CatBoosting Regressor</td>\n",
       "      <td>0.999720</td>\n",
       "    </tr>\n",
       "    <tr>\n",
       "      <th>8</th>\n",
       "      <td>AdaBoost Regressor</td>\n",
       "      <td>0.995091</td>\n",
       "    </tr>\n",
       "    <tr>\n",
       "      <th>3</th>\n",
       "      <td>K-Neighbors Regressor</td>\n",
       "      <td>0.973111</td>\n",
       "    </tr>\n",
       "  </tbody>\n",
       "</table>\n",
       "</div>"
      ],
      "text/plain": [
       "                Model Name  R2_Score\n",
       "0        Linear Regression  1.000000\n",
       "2                    Ridge  0.999999\n",
       "1                    Lasso  0.999983\n",
       "5  Random Forest Regressor  0.999977\n",
       "4            Decision Tree  0.999941\n",
       "6             XGBRegressor  0.999845\n",
       "7    CatBoosting Regressor  0.999720\n",
       "8       AdaBoost Regressor  0.995091\n",
       "3    K-Neighbors Regressor  0.973111"
      ]
     },
     "execution_count": 50,
     "metadata": {},
     "output_type": "execute_result"
    }
   ],
   "source": [
    "# creating data frame and zip model list and r2 list sort by R2 score as deascending\n",
    "pd.DataFrame(list(zip(model_list, r2_list)), columns=['Model Name', 'R2_Score']).sort_values(by=['R2_Score'], ascending=False)"
   ]
  },
  {
   "cell_type": "code",
   "execution_count": 51,
   "id": "6c1b6df7-13d3-4eb0-8c97-0c2f786c2ac9",
   "metadata": {},
   "outputs": [
    {
     "data": {
      "text/plain": [
       "Text(0, 0.5, 'Predicted')"
      ]
     },
     "execution_count": 51,
     "metadata": {},
     "output_type": "execute_result"
    },
    {
     "data": {
      "image/png": "[encoded data removed]",
      "text/plain": [
       "<Figure size 640x480 with 1 Axes>"
      ]
     },
     "metadata": {},
     "output_type": "display_data"
    }
   ],
   "source": [
    "# Lets plot by scatter plot\n",
    "plt.scatter(y_test,y_test_pred);\n",
    "plt.xlabel('Actual');\n",
    "plt.ylabel('Predicted')"
   ]
  },
  {
   "cell_type": "code",
   "execution_count": 52,
   "id": "5a5991a7-e7bb-4432-ad2d-ec90f181fc3e",
   "metadata": {},
   "outputs": [
    {
     "data": {
      "image/png": "[encoded data removed]",
      "text/plain": [
       "<Figure size 640x480 with 1 Axes>"
      ]
     },
     "metadata": {},
     "output_type": "display_data"
    }
   ],
   "source": [
    "# create scatter add line plot\n",
    "sns.regplot(x=y_test, y=y_test_pred, ci=None, color='red');"
   ]
  },
  {
   "cell_type": "code",
   "execution_count": 53,
   "id": "b977c944-ae45-4dba-8eb9-4a2d2c829e24",
   "metadata": {},
   "outputs": [
    {
     "data": {
      "text/html": [
       "<div>\n",
       "<style scoped>\n",
       "    .dataframe tbody tr th:only-of-type {\n",
       "        vertical-align: middle;\n",
       "    }\n",
       "\n",
       "    .dataframe tbody tr th {\n",
       "        vertical-align: top;\n",
       "    }\n",
       "\n",
       "    .dataframe thead th {\n",
       "        text-align: right;\n",
       "    }\n",
       "</style>\n",
       "<table border=\"1\" class=\"dataframe\">\n",
       "  <thead>\n",
       "    <tr style=\"text-align: right;\">\n",
       "      <th></th>\n",
       "      <th>Actual Value</th>\n",
       "      <th>Predicted Value</th>\n",
       "      <th>Difference</th>\n",
       "    </tr>\n",
       "  </thead>\n",
       "  <tbody>\n",
       "    <tr>\n",
       "      <th>521</th>\n",
       "      <td>523.9710</td>\n",
       "      <td>542.743817</td>\n",
       "      <td>-18.772817</td>\n",
       "    </tr>\n",
       "    <tr>\n",
       "      <th>737</th>\n",
       "      <td>616.9800</td>\n",
       "      <td>627.416530</td>\n",
       "      <td>-10.436530</td>\n",
       "    </tr>\n",
       "    <tr>\n",
       "      <th>740</th>\n",
       "      <td>408.7335</td>\n",
       "      <td>412.177386</td>\n",
       "      <td>-3.443886</td>\n",
       "    </tr>\n",
       "    <tr>\n",
       "      <th>660</th>\n",
       "      <td>135.3555</td>\n",
       "      <td>162.695522</td>\n",
       "      <td>-27.340022</td>\n",
       "    </tr>\n",
       "    <tr>\n",
       "      <th>411</th>\n",
       "      <td>45.9270</td>\n",
       "      <td>65.363398</td>\n",
       "      <td>-19.436398</td>\n",
       "    </tr>\n",
       "    <tr>\n",
       "      <th>...</th>\n",
       "      <td>...</td>\n",
       "      <td>...</td>\n",
       "      <td>...</td>\n",
       "    </tr>\n",
       "    <tr>\n",
       "      <th>408</th>\n",
       "      <td>237.4260</td>\n",
       "      <td>230.966509</td>\n",
       "      <td>6.459491</td>\n",
       "    </tr>\n",
       "    <tr>\n",
       "      <th>332</th>\n",
       "      <td>404.3550</td>\n",
       "      <td>412.177386</td>\n",
       "      <td>-7.822386</td>\n",
       "    </tr>\n",
       "    <tr>\n",
       "      <th>208</th>\n",
       "      <td>95.6655</td>\n",
       "      <td>70.553431</td>\n",
       "      <td>25.112069</td>\n",
       "    </tr>\n",
       "    <tr>\n",
       "      <th>613</th>\n",
       "      <td>84.9765</td>\n",
       "      <td>70.243133</td>\n",
       "      <td>14.733367</td>\n",
       "    </tr>\n",
       "    <tr>\n",
       "      <th>78</th>\n",
       "      <td>822.2550</td>\n",
       "      <td>815.035574</td>\n",
       "      <td>7.219426</td>\n",
       "    </tr>\n",
       "  </tbody>\n",
       "</table>\n",
       "<p>200 rows × 3 columns</p>\n",
       "</div>"
      ],
      "text/plain": [
       "     Actual Value  Predicted Value  Difference\n",
       "521      523.9710       542.743817  -18.772817\n",
       "737      616.9800       627.416530  -10.436530\n",
       "740      408.7335       412.177386   -3.443886\n",
       "660      135.3555       162.695522  -27.340022\n",
       "411       45.9270        65.363398  -19.436398\n",
       "..            ...              ...         ...\n",
       "408      237.4260       230.966509    6.459491\n",
       "332      404.3550       412.177386   -7.822386\n",
       "208       95.6655        70.553431   25.112069\n",
       "613       84.9765        70.243133   14.733367\n",
       "78       822.2550       815.035574    7.219426\n",
       "\n",
       "[200 rows x 3 columns]"
      ]
     },
     "execution_count": 53,
     "metadata": {},
     "output_type": "execute_result"
    }
   ],
   "source": [
    "# predicting linear regression and compare with actual values in table form\n",
    "pred_df=pd.DataFrame({'Actual Value':y_test,'Predicted Value':y_test_pred,'Difference':y_test-y_test_pred})\n",
    "pred_df"
   ]
  },
  {
   "attachments": {},
   "cell_type": "markdown",
   "id": "483c1c62",
   "metadata": {},
   "source": [
    "## Predict Total Sales for New Data"
   ]
  },
  {
   "attachments": {},
   "cell_type": "markdown",
   "id": "c2dd49d1",
   "metadata": {},
   "source": [
    "I willing to scrifice some interpretability for potentially better predictive accuracy, so I choose Lasso that can help with feature selection and reduce the impact of irrelevant features."
   ]
  },
  {
   "attachments": {
    "image.png": {
     "image/png": "[encoded data removed]"
    }
   },
   "cell_type": "markdown",
   "id": "bdcc7edb",
   "metadata": {},
   "source": [
    "![image.png](attachment:image.png)"
   ]
  },
  {
   "cell_type": "code",
   "execution_count": 54,
   "id": "61aa45d5-fd9d-4e66-b91c-cc8c5532ae1a",
   "metadata": {},
   "outputs": [],
   "source": [
    "# create a new DataFrame with only the relevant columns\n",
    "df_regression = df[['Branch', 'City', 'Customer type', 'Gender', 'Product line', 'Unit price', 'Quantity', 'Tax 5%', 'Payment', 'cogs', 'gross margin percentage', 'gross income']]\n",
    "# One-hot code operating\n",
    "df_regression = pd.get_dummies(df_regression)\n",
    "\n",
    "# splitting train and test data\n",
    "X_train, X_test, y_train, y_test = train_test_split(df_regression, df['Total'], test_size=0.2\n",
    "                                                   )\n",
    "lasso = Lasso(alpha=0.1)  # Alpha is the regularization parameter\n",
    "# fit train set\n",
    "lasso.fit(X_train,y_train)\n",
    "# predicting test set\n",
    "predicted_totals = lasso.predict(X_test)"
   ]
  },
  {
   "cell_type": "code",
   "execution_count": 55,
   "id": "3cf75921-afb7-4b26-afc7-3cb74aab2db3",
   "metadata": {},
   "outputs": [
    {
     "name": "stdout",
     "output_type": "stream",
     "text": [
      "     New Data Prediction\n",
      "0             548.972942\n",
      "1              80.209334\n",
      "2             340.520651\n",
      "3             489.043750\n",
      "4             634.382520\n",
      "..                   ...\n",
      "995            42.369802\n",
      "996          1022.486247\n",
      "997            33.430626\n",
      "998            69.124303\n",
      "999           649.303470\n",
      "\n",
      "[1000 rows x 1 columns]\n"
     ]
    }
   ],
   "source": [
    "# define df_new that collect feature with only the relevant columns for new data\n",
    "df_new = df[['Branch', 'City', 'Customer type', 'Gender', 'Product line', 'Unit price', 'Quantity', 'Tax 5%', 'Payment', 'cogs', 'gross margin percentage', 'gross income']]\n",
    "# en hot code\n",
    "df_new = pd.get_dummies(df_new)\n",
    "# Lets predict new data\n",
    "predicted_totals_new = lasso.predict(df_new)\n",
    "# create data frame to collect the total sales from new data\n",
    "pred_totals_new = pd.DataFrame({'New Data Prediction':predicted_totals_new})\n",
    "# print total sales of new data\n",
    "print(pred_totals_new)"
   ]
  }
 ],
 "metadata": {
  "kernelspec": {
   "display_name": "Python 3 (ipykernel)",
   "language": "python",
   "name": "python3"
  },
  "language_info": {
   "codemirror_mode": {
    "name": "ipython",
    "version": 3
   },
   "file_extension": ".py",
   "mimetype": "text/x-python",
   "name": "python",
   "nbconvert_exporter": "python",
   "pygments_lexer": "ipython3",
   "version": "3.9.13"
  }
 },
 "nbformat": 4,
 "nbformat_minor": 5
}
