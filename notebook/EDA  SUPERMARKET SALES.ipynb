{
 "cells": [
  {
   "attachments": {},
   "cell_type": "markdown",
   "id": "bd0f03d8-7b8d-4cf6-a7de-c189d834e113",
   "metadata": {},
   "source": [
    "# Retail Price Optimization"
   ]
  },
  {
   "attachments": {},
   "cell_type": "markdown",
   "id": "d18cde4e-e192-45b7-9024-d70a7ff76718",
   "metadata": {},
   "source": [
    "### Life cycle of Machine learning Project\n",
    "<ul>\n",
    "    <li>Understanding the Problem Statement</li>\n",
    "    <li>Data Collection</li>\n",
    "    <li>Data Checks to perform</li>\n",
    "    <li>Exploratory data analysis</li>\n",
    "    <li>Data Pre-Processing</li>\n",
    "    <li>Model Training</li>\n",
    "    <li>Choose best model</li>\n",
    "</ul>"
   ]
  },
  {
   "attachments": {},
   "cell_type": "markdown",
   "id": "d06eee4b-b2f9-41b8-8275-83fcee40b0da",
   "metadata": {
    "tags": []
   },
   "source": [
    "## 1) Problem statement\n",
    "    \n",
    "<ul>\n",
    "        <li>This project understands how the supermarket is affected by other variables such as the day of the week, the total amount spent on transactions, or to analyze the factors that influence customer spending patterns\n",
    "        </li>\n",
    "</ul>"
   ]
  },
  {
   "attachments": {},
   "cell_type": "markdown",
   "id": "6652b13a-db4b-48b8-9820-ff0fde4ff64f",
   "metadata": {},
   "source": [
    "## 2) Data Collection\n",
    "\n",
    "   <ul>\n",
    "        <li>Dataset Source -<a>https://www.kaggle.com/datasets/aungpyaeap/supermarket-sales</a></li>\n",
    "        <li> The data consists of 17 column and 1000 rows.</li>\n",
    "   </ul>"
   ]
  },
  {
   "attachments": {},
   "cell_type": "markdown",
   "id": "4217645f-ecbe-4f1e-979a-d8041f9a2cee",
   "metadata": {},
   "source": [
    "## 2.1 Import Data and Required Packages\n",
    "### Importing Pandas, Numpy, Matplotlib, Seaborn and Warings Library."
   ]
  },
  {
   "cell_type": "code",
   "execution_count": 3,
   "id": "a70cd100-5912-4356-91b7-887f36dc433a",
   "metadata": {},
   "outputs": [
    {
     "ename": "ModuleNotFoundError",
     "evalue": "No module named 'pandas'",
     "output_type": "error",
     "traceback": [
      "\u001b[1;31m---------------------------------------------------------------------------\u001b[0m",
      "\u001b[1;31mModuleNotFoundError\u001b[0m                       Traceback (most recent call last)",
      "Cell \u001b[1;32mIn[3], line 2\u001b[0m\n\u001b[0;32m      1\u001b[0m \u001b[39m# importing the necessary package.\u001b[39;00m\n\u001b[1;32m----> 2\u001b[0m \u001b[39mimport\u001b[39;00m \u001b[39mpandas\u001b[39;00m \u001b[39mas\u001b[39;00m \u001b[39mpd\u001b[39;00m\n\u001b[0;32m      3\u001b[0m \u001b[39mimport\u001b[39;00m \u001b[39mnumpy\u001b[39;00m \u001b[39mas\u001b[39;00m \u001b[39mnp\u001b[39;00m\n\u001b[0;32m      4\u001b[0m \u001b[39mimport\u001b[39;00m \u001b[39mseaborn\u001b[39;00m \u001b[39mas\u001b[39;00m \u001b[39msns\u001b[39;00m\n",
      "\u001b[1;31mModuleNotFoundError\u001b[0m: No module named 'pandas'"
     ]
    }
   ],
   "source": [
    "# importing the necessary package.\n",
    "import pandas as pd\n",
    "import numpy as np\n",
    "import seaborn as sns\n",
    "import matplotlib.pyplot as plt\n",
    "%matplotlib inline\n",
    "import warnings\n",
    "warnings.filterwarnings('ignore')"
   ]
  },
  {
   "attachments": {},
   "cell_type": "markdown",
   "id": "ccf0e02d-f4ff-41e0-bf5f-e0b4c75e9ab7",
   "metadata": {},
   "source": [
    "### Import the CSV Data as Pandas DataFrame and Show Top 5 Records"
   ]
  },
  {
   "cell_type": "code",
   "execution_count": null,
   "id": "009d8d80-1220-4228-98a5-8330ffe2697e",
   "metadata": {},
   "outputs": [],
   "source": [
    "df = pd.read_csv('supermarket_sales.csv')\n",
    "df.head()"
   ]
  },
  {
   "attachments": {},
   "cell_type": "markdown",
   "id": "b63a86de-bcd3-4b92-843d-d4182303dec5",
   "metadata": {},
   "source": [
    "### Shape of dataset"
   ]
  },
  {
   "cell_type": "code",
   "execution_count": null,
   "id": "8fceab24-d36e-4f6d-b57e-3f812709e5c4",
   "metadata": {},
   "outputs": [],
   "source": [
    "df.shape"
   ]
  },
  {
   "attachments": {},
   "cell_type": "markdown",
   "id": "b220f78b-9936-4324-b411-351175f0416b",
   "metadata": {},
   "source": [
    "## 2.2 Dataset information\n",
    "\n",
    "| Column Name              | Description                                                                 |\n",
    "|--------------------------|-----------------------------------------------------------------------------|\n",
    "| Invoice id               | Computer-generated sales slip invoice identification number                |\n",
    "| Branch                   | Branch of supercenter (identified by A, B, and C)                            |\n",
    "| City                     | Location of supercenters                                                    |\n",
    "| Customer type            | Type of customers, recorded by Members for customers using a member card, and Normal for those without a member card |\n",
    "| Gender                   | Gender type of the customer                                                  |\n",
    "| Product line             | General item categorization groups - Electronic accessories, Fashion accessories, Food and beverages, Health and beauty, Home and lifestyle, Sports and travel |\n",
    "| Unit price               | Price of each product in USD                                                 |\n",
    "| Quantity                 | Number of products purchased by the customer                                  |\n",
    "| Tax                      | 5% tax fee for customers buying products                                      |\n",
    "| Total                    | Total price including tax                                                    |\n",
    "| Date                     | Date of purchase (Record available from January 2019 to March 2019)          |\n",
    "| Time                     | Purchase time (10am to 9pm)                                                   |\n",
    "| Payment                  | Payment method used by the customer for purchase (Cash, Credit card, and Ewallet) |\n",
    "| COGS (Cost of goods sold)| The cost of the goods sold                                                   |\n",
    "| Gross margin percentage  | Gross margin percentage                                                       |\n",
    "| Gross income             | Gross income                                                                  |\n",
    "| Rating                   | Customer stratification rating on their overall shopping experience (On a scale of 1 to 10) |\n"
   ]
  },
  {
   "attachments": {},
   "cell_type": "markdown",
   "id": "5bf42108-214f-4dd1-ab0e-eeb9ca18e046",
   "metadata": {},
   "source": [
    "## 3) Data Checks to perform\n",
    "\n",
    "<ul>\n",
    "    <li>Check Missing values</li>\n",
    "    <li>Check Duplicates</li>\n",
    "    <li>Check data type</li>\n",
    "    <li>Check the number of unique values of each column</li>\n",
    "    <li>Check statistics of data set</li>\n",
    "    <li>Check various categories present in the different categorical column</li>\n",
    "</ul>"
   ]
  },
  {
   "attachments": {},
   "cell_type": "markdown",
   "id": "38149908-9f01-4fb0-8a4c-3ca7701d4d33",
   "metadata": {},
   "source": [
    "## 3.1 Check Missing values"
   ]
  },
  {
   "cell_type": "code",
   "execution_count": null,
   "id": "c0a820f8-4f48-42e1-831d-2773ab980a7d",
   "metadata": {},
   "outputs": [],
   "source": [
    "# checking for missing values\n",
    "missing_values = df.isnull().sum()\n",
    "\n",
    "missing_values"
   ]
  },
  {
   "attachments": {},
   "cell_type": "markdown",
   "id": "6faa6f6a-2deb-4e04-bd6a-a0c229ad1157",
   "metadata": {},
   "source": [
    "## Check Duplicates"
   ]
  },
  {
   "cell_type": "code",
   "execution_count": null,
   "id": "1ff2fc9b-8f16-415a-9f43-3debfce0a90a",
   "metadata": {},
   "outputs": [],
   "source": [
    "df.duplicated().sum()"
   ]
  },
  {
   "attachments": {},
   "cell_type": "markdown",
   "id": "9b574419-2578-4506-bca7-22332f346d0d",
   "metadata": {},
   "source": [
    "There are no duplicates values in the data set"
   ]
  },
  {
   "attachments": {},
   "cell_type": "markdown",
   "id": "ce35e0aa-62a6-43cc-95d9-805eb05420aa",
   "metadata": {},
   "source": [
    "## 3.3 Check data types"
   ]
  },
  {
   "cell_type": "code",
   "execution_count": null,
   "id": "e916569e-7d48-4f48-81dc-e0ed14b607a5",
   "metadata": {},
   "outputs": [],
   "source": [
    "df.info() #let's check data types"
   ]
  },
  {
   "attachments": {},
   "cell_type": "markdown",
   "id": "0275f9f4-dd1c-4325-b2ff-93315cb3c973",
   "metadata": {},
   "source": [
    "## 3.4 Checking the number of unique values of each column"
   ]
  },
  {
   "cell_type": "code",
   "execution_count": null,
   "id": "d83ee0ab-ef6f-4b5f-8b6f-484c63a27a86",
   "metadata": {},
   "outputs": [],
   "source": [
    "df.columns"
   ]
  },
  {
   "cell_type": "code",
   "execution_count": null,
   "id": "65f00729-9006-40a7-9a43-96b4cc3daa1e",
   "metadata": {},
   "outputs": [],
   "source": [
    "df.nunique()"
   ]
  },
  {
   "attachments": {},
   "cell_type": "markdown",
   "id": "f08120f7-0aa8-4d66-8278-1bf433843498",
   "metadata": {},
   "source": [
    "## Check statistics of data set"
   ]
  },
  {
   "cell_type": "code",
   "execution_count": null,
   "id": "47810340-d417-424f-b22a-25b8215c3dc1",
   "metadata": {},
   "outputs": [],
   "source": [
    "df.describe() #check statistical summary"
   ]
  },
  {
   "attachments": {},
   "cell_type": "markdown",
   "id": "82f329e6-d5e7-44bd-9d8f-dca30d5241de",
   "metadata": {},
   "source": [
    "### Insight\n",
    "   \n",
    "<ul>\n",
    "    <ul>\n",
    "  <li>The mean unit price of $55.67 suggests that the products being sold are relatively expensive.</li>\n",
    "        \n",
    "  <li>The mean quantity is 5.51 units, indicating that customers tend to purchase multiple unit in a single transaction.</li>\n",
    "  <li>The mean tax added to the cost is $15.38, which is about 28% of the mean unit price. This suggests that the products being sold are subject to a moderate amount of tax.</li>\n",
    "        \n",
    "  <li>The mean total cost of the transaction is $322.97, which is much higher than the mean unit price due to the tax being added</li>\n",
    "        \n",
    "  <li>The mean gross margin percentage of 4.76% suggests that the business is operating with relatively low profit margin.</li>\n",
    "  <li>The mean gross income per transaction is $15.38, which is not a significant amount of profit.</li>\n",
    "  <li>The minimum rating of 4 and maximum rating of 10 suggest that the quality of the products or the service provided to customers varies widely.</li>\n",
    "    </ul>\n",
    "</ul>\n",
    "\n"
   ]
  },
  {
   "attachments": {},
   "cell_type": "markdown",
   "id": "5c6d976a-eb09-457f-81ff-b770055886ba",
   "metadata": {},
   "source": [
    "## 3.7 Exploring Data"
   ]
  },
  {
   "cell_type": "code",
   "execution_count": null,
   "id": "1567b069-f9c5-4724-ba72-b4096600f3ef",
   "metadata": {},
   "outputs": [],
   "source": [
    "df.head()"
   ]
  },
  {
   "cell_type": "code",
   "execution_count": null,
   "id": "47aba600-e15d-4bd5-9abc-5c61acc81179",
   "metadata": {},
   "outputs": [],
   "source": [
    "print(\"Categories in 'City' variable: \",end=\" \" )\n",
    "print(df['City'].unique())\n",
    "\n",
    "print(\"Categories in 'Customer type' variable: \",end=\" \")\n",
    "print(df['Customer type'].unique())\n",
    "\n",
    "print(\"Categories in 'Gender' variable: \",end=\" \")\n",
    "print(df['Gender'].unique())\n",
    "\n",
    "print(\"Categories in 'Product line' variable: \",end=\" \")\n",
    "print(df['Product line'].unique())\n",
    "\n",
    "print(\"Categories in 'Payment' varible: \",end=\"\")\n",
    "print(df['Payment'].unique())"
   ]
  },
  {
   "cell_type": "code",
   "execution_count": null,
   "id": "c4d260be-43a0-4bdb-b0ab-62294653b4e5",
   "metadata": {},
   "outputs": [],
   "source": [
    "# define numerical & categorical columns\n",
    "numeric_features = [feature for feature in df.columns if df[feature].dtype !='O']\n",
    "categorical_features = [feature for feature in df.columns if df[feature].dtype =='O']\n",
    "\n",
    "# print columns\n",
    "print('We have {} numerical feature : {}'.format(len(numeric_features), numeric_features))\n",
    "print('\\nWe have {} caegorical features : {}'.format(len(categorical_features), categorical_features))"
   ]
  },
  {
   "attachments": {},
   "cell_type": "markdown",
   "id": "e02d7fc1-3bd5-4afb-8fe4-929968fc9faf",
   "metadata": {},
   "source": [
    "## 4) Exploring Data (Visualization)"
   ]
  },
  {
   "attachments": {},
   "cell_type": "markdown",
   "id": "87f2d033-0e93-42db-86fd-7a142220e979",
   "metadata": {},
   "source": [
    "### What is the average total amount spent by each customer type and gender?"
   ]
  },
  {
   "cell_type": "code",
   "execution_count": null,
   "id": "90906c87-cbbf-436e-b01f-19730b332806",
   "metadata": {},
   "outputs": [],
   "source": [
    "# spliting the customer type and to check average total amount spent by each customer type\n",
    "df_customer_type = df.groupby('Customer type')['Total'].mean()\n",
    "print(df_customer_type)"
   ]
  },
  {
   "cell_type": "code",
   "execution_count": null,
   "id": "30f5d4f7-78e9-444b-ac87-5b5b75824eb3",
   "metadata": {},
   "outputs": [],
   "source": [
    "# visualize by bar plot\n",
    "df_customer_type.plot(kind='bar', title = 'Average Total Amount spent by each customer type')"
   ]
  },
  {
   "attachments": {},
   "cell_type": "markdown",
   "id": "eae44c3f-091b-44a1-b9e1-33c6e71a04a1",
   "metadata": {},
   "source": [
    "### The total sales for each customer gender and product line combination"
   ]
  },
  {
   "cell_type": "code",
   "execution_count": null,
   "id": "58af7a38-a96d-49a5-83d3-4715fb0c991c",
   "metadata": {},
   "outputs": [],
   "source": [
    "#to visualize total sales each customer gender and product line\n",
    "plt.figure(figsize=(12,7))\n",
    "sns.barplot(x='Product line', y='Total', hue='Gender', data=df, estimator = sum, ci=None)"
   ]
  },
  {
   "cell_type": "code",
   "execution_count": null,
   "id": "25e1f220-2c76-46f0-bf9b-031577102778",
   "metadata": {},
   "outputs": [],
   "source": [
    "# group the data by gender and product line and calculate the total sales for each group\n",
    "\n",
    "customer_gender_pd_line = df.groupby(['Gender','Product line'])['Total'].sum()\n",
    "print(customer_gender_pd_line)"
   ]
  },
  {
   "cell_type": "code",
   "execution_count": null,
   "id": "4bfe9f29-32ae-4167-ae2c-be9455724150",
   "metadata": {},
   "outputs": [],
   "source": [
    "# to visualize the data by gender and product line and calculate the total sales for each group\n",
    "customer_gender_pd_line.plot(kind='bar', title='Total sales for each Group of Gender and Product line')"
   ]
  },
  {
   "attachments": {},
   "cell_type": "markdown",
   "id": "429b3253-8734-45f0-ae81-4972b59abbba",
   "metadata": {},
   "source": [
    "we can observe that the product line with the highest sales figures for females is \"Food and Beverages,\" while for males, it is \"Health and Beauty.\" We can also see that the product line with the lowest sales figures for females is \"Health and Beauty,\" while for males, it is \"Food and Beverages."
   ]
  },
  {
   "attachments": {},
   "cell_type": "markdown",
   "id": "ce1349ae-6218-47cb-acc8-61900bce8646",
   "metadata": {},
   "source": [
    "### The average unit price for each product line"
   ]
  },
  {
   "cell_type": "code",
   "execution_count": null,
   "id": "6493b16f-ee01-4e41-82ec-a02a74935f2c",
   "metadata": {},
   "outputs": [],
   "source": [
    "# To group unit price for each product line\n",
    "df_product_line_price = df.groupby('Product line') ['Unit price'].mean()\n",
    "print(df_product_line_price)"
   ]
  },
  {
   "cell_type": "code",
   "execution_count": null,
   "id": "45e6abc5-de68-4d8d-ac79-366878ebd9de",
   "metadata": {},
   "outputs": [],
   "source": [
    "# To visualize average unit pice of each product line\n",
    "df_product_line_price.plot(kind='bar', title='Average Unit Price of Each Product Line')"
   ]
  },
  {
   "attachments": {},
   "cell_type": "markdown",
   "id": "031d87d5-cfa8-41d3-ae99-22d39586e62c",
   "metadata": {},
   "source": [
    "### To calculate the overall gross margin percentage"
   ]
  },
  {
   "cell_type": "code",
   "execution_count": null,
   "id": "3a7599d3-af10-4ad9-a527-e042872b4953",
   "metadata": {},
   "outputs": [],
   "source": [
    "# calculate the overall gross margin percentage\n",
    "df['gross_margin'] = (df['Total']-df['cogs']) / df['Total']\n",
    "overall_gross_margin = df['gross_margin'].mean()\n",
    "\n",
    "print(overall_gross_margin)"
   ]
  },
  {
   "attachments": {},
   "cell_type": "markdown",
   "id": "9fc1c223-e085-4860-ab8d-a070ea5b793d",
   "metadata": {},
   "source": [
    "An indication of low profitability for the Supermarket is reflected by a gross margin of 0.047, which implies that only 4.76% of the total revenue is available after factoring in the COGS. To enhance profitability, the business can aim to decrease the COGS or boost revenue."
   ]
  },
  {
   "attachments": {},
   "cell_type": "markdown",
   "id": "c2ce18fe-fb8e-4a69-bf5c-ae34749cf029",
   "metadata": {},
   "source": [
    "### Which cities are the biggest customers?"
   ]
  },
  {
   "cell_type": "code",
   "execution_count": null,
   "id": "6d9ac366-6b09-45cf-9f23-a32595b2835e",
   "metadata": {},
   "outputs": [],
   "source": [
    "df_city_sales = df.groupby('City')['Total'].sum()\n",
    "print(df_city_sales)\n",
    "\n",
    "# to visualize by bar chart\n",
    "df_city_sales.plot(kind='bar')\n",
    "\n",
    "# add title and lanels to the plot\n",
    "plt.title('Total Sale by City')\n",
    "plt.xlabel('City')\n",
    "plt.ylabel('Total Sales')\n",
    "\n",
    "plt.show()"
   ]
  },
  {
   "attachments": {},
   "cell_type": "markdown",
   "id": "9795c7e0-3dad-44d2-9eba-a090fffa5aa1",
   "metadata": {},
   "source": [
    "### The relationship between the unit price and the quantity of each product"
   ]
  },
  {
   "cell_type": "code",
   "execution_count": null,
   "id": "8ccb1131-51c6-46e9-ad85-55ec10236b27",
   "metadata": {},
   "outputs": [],
   "source": [
    "# create a scatter plot to visualize the relationship between unit price and quantity\n",
    "plt.scatter(df['Unit price'], df['Quantity'])\n",
    "\n",
    "# add title and lanels to the plot\n",
    "plt.title('Unit Price vs Quantity')\n",
    "plt.xlabel('Unit price')\n",
    "plt.ylabel('Quantity')\n",
    "\n",
    "plt.show()\n",
    "\n",
    "df[[\"Unit price\", \"Quantity\"]].corr()"
   ]
  },
  {
   "attachments": {},
   "cell_type": "markdown",
   "id": "4d84c5c0-07d3-40dd-bf90-ce40062b728f",
   "metadata": {},
   "source": [
    "The correlation between \"Quantity\" and \"Unit price\". It indicates a weak positive correlation, which means that as the quantity of a product increases, the unit price tends to increase slightly as well. However, the correlation is very weak."
   ]
  },
  {
   "attachments": {},
   "cell_type": "markdown",
   "id": "fe3d4579-db7b-445e-ad1b-40f4d89b7339",
   "metadata": {},
   "source": [
    "### The overall satisfaction level of customers with the supermarket."
   ]
  },
  {
   "cell_type": "code",
   "execution_count": null,
   "id": "6cf3daa0-871a-4348-9153-bf07a35f1645",
   "metadata": {},
   "outputs": [],
   "source": [
    "# create a histogram to visualize the distribution of customer rating\n",
    "df['Rating'].plot(kind='hist')\n",
    "\n",
    "# add title and lanels to the plot\n",
    "plt.title('Distribution of Customer Rating')\n",
    "plt.xlabel('Rating')\n",
    "plt.ylabel('Number of Customer')\n",
    "\n",
    "plt.show()\n"
   ]
  },
  {
   "cell_type": "code",
   "execution_count": null,
   "id": "587e5b11-f8fc-45b9-808d-6a1938ceb6de",
   "metadata": {},
   "outputs": [],
   "source": [
    "# try to bin Rating data\n",
    "bins= np.linspace(min(df[\"Rating\"]), max(df[\"Rating\"]), 4)\n",
    "\n",
    "# set group names\n",
    "group_names = ['Low', 'Medium', 'High']\n",
    "\n",
    "df['rating_bined'] = pd.cut(df['Rating'], bins, labels=group_names, include_lowest=True)\n",
    "df[['Rating', 'rating_bined']].head(20)"
   ]
  },
  {
   "cell_type": "code",
   "execution_count": null,
   "id": "3ab3b2a6-eaa1-415c-9bc6-36369cfdee13",
   "metadata": {},
   "outputs": [],
   "source": [
    "df['rating_bined'].value_counts()  #Let see the number of ratings in each bin"
   ]
  },
  {
   "cell_type": "code",
   "execution_count": null,
   "id": "1c5e3aa9-6808-4ed9-b0e5-ff6a5e7e188e",
   "metadata": {},
   "outputs": [],
   "source": [
    "# To visualize rating of each bins\n",
    "plt.bar(group_names, df[\"rating_bined\"].value_counts())\n",
    "\n",
    "# add title and lanels to the plot\n",
    "plt.title('Distribution of Customer Rating')\n",
    "plt.xlabel('Rating')\n",
    "plt.ylabel('Numbers of Customer Rating')\n",
    "\n",
    "plt.show()"
   ]
  },
  {
   "attachments": {},
   "cell_type": "markdown",
   "id": "9f1e4b3b-e488-439f-803c-f41857a2fc5f",
   "metadata": {},
   "source": [
    "### Which branches are performing well in term of gross of margin percentage?"
   ]
  },
  {
   "cell_type": "code",
   "execution_count": null,
   "id": "8cecf3d1-2ff9-44e1-badd-0f50459ed1a3",
   "metadata": {},
   "outputs": [],
   "source": [
    "# group the data by brach and calculate the average gross margin percentage of each branch\n",
    "df_branch_margin = df.groupby('Branch')['gross margin percentage'].mean()\n",
    "\n",
    "# visualize the average gross margin for each branch\n",
    "df_branch_margin.plot(kind='box')\n",
    "\n",
    "# add title and lanels to the plot\n",
    "plt.title('Gross Margin Percentage by Branch')\n",
    "plt.xlabel('Branch')\n",
    "plt.ylabel('Gross Margin Percentage')\n",
    "\n",
    "# show the plot\n",
    "plt.show()"
   ]
  },
  {
   "attachments": {},
   "cell_type": "markdown",
   "id": "9668f2a7-ca53-43da-ad0c-5cd470c2d4b6",
   "metadata": {},
   "source": [
    "### The most popular product line in the supermarket"
   ]
  },
  {
   "cell_type": "code",
   "execution_count": null,
   "id": "c8ae8994-52cf-433b-af61-b9a7f93602d0",
   "metadata": {},
   "outputs": [],
   "source": [
    "# group the data by product line and calculate total sale of each product lines\n",
    "product_line_sales = df.groupby('Product line')['Total'].sum()\n",
    "product_line_sales = product_line_sales.sort_values(ascending=False)\n",
    "\n",
    "#print the total sales of each product line\n",
    "print(\"Most popular product lines:\")\n",
    "print(product_line_sales)\n",
    "\n",
    "#visulize the total sales for each product lines with bar chart\n",
    "product_line_sales.head(10).plot(kind='bar', title='The Most Popular Product Lines')"
   ]
  },
  {
   "attachments": {},
   "cell_type": "markdown",
   "id": "6cbe2890-8023-456d-90fd-d234e1f8f86c",
   "metadata": {},
   "source": [
    "### The most profitable product line in the supermarket"
   ]
  },
  {
   "cell_type": "code",
   "execution_count": null,
   "id": "322bdec3-b075-4069-bb17-d287a69b6fc8",
   "metadata": {},
   "outputs": [],
   "source": [
    "# group the data by product line and calculate the total gross income for each product line\n",
    "product_line_profit = df.groupby('Product line')['gross income'].sum()\n",
    "\n",
    "# sort the product lines by total gross income in descending order\n",
    "product_line_profit = product_line_profit.sort_values(ascending=False)\n",
    "\n",
    "# print the top 10 most profitable product lines\n",
    "print('The most profitable product line :')\n",
    "print(product_line_profit)\n",
    "\n",
    "# visualize the most profitable product lines\n",
    "product_line_profit.head(10).plot(kind='bar', title='The most profitable product in the supermarket')"
   ]
  },
  {
   "attachments": {},
   "cell_type": "markdown",
   "id": "802c5256-2797-4332-acbd-692d75239243",
   "metadata": {},
   "source": [
    "### The most popular payment method in the supermarket"
   ]
  },
  {
   "cell_type": "code",
   "execution_count": null,
   "id": "c38be53c-ef76-4a34-afc1-1558d22ac2c6",
   "metadata": {},
   "outputs": [],
   "source": [
    "# group the data by payment method and calculate the total sales for each payment method\n",
    "payment_method = df.groupby('Payment')['Total'].sum()\n",
    "\n",
    "# sort the payment methods by total sales in descending order\n",
    "payment_method = payment_method.sort_values(ascending=False)\n",
    "\n",
    "# print the most popular payment method\n",
    "print(\"The most payment method in the supermarket :\")\n",
    "print(payment_method.head(10))\n",
    "\n",
    "# visualize the most popular payment methods\n",
    "payment_method.plot(kind='bar', title='The Most Popular Payment Method')"
   ]
  },
  {
   "cell_type": "code",
   "execution_count": null,
   "id": "033695cc-847a-4c33-90ae-cd5994a07d5c",
   "metadata": {},
   "outputs": [],
   "source": [
    "# total sales for each customer type by payment method\n",
    "\n",
    "plt.figure(figsize=(11,6))\n",
    "sns.barplot(x='Payment', y='Total', hue='Gender', data=df, ci=None, estimator=sum)"
   ]
  },
  {
   "cell_type": "code",
   "execution_count": null,
   "id": "73a5a8be-4e1f-4dcf-90dc-56b07f5629c6",
   "metadata": {},
   "outputs": [],
   "source": [
    "# toral sale for each customer type by payment method\n",
    "plt.figure(figsize=(11,6))\n",
    "sns.barplot(x='Payment', y='Total', hue='Customer type', data= df, ci = None , estimator=sum)"
   ]
  },
  {
   "attachments": {},
   "cell_type": "markdown",
   "id": "c2450f0a-1f3c-494c-804d-f53e75d74bcb",
   "metadata": {},
   "source": [
    "### The average unit prices and quantities sold for each product line"
   ]
  },
  {
   "cell_type": "code",
   "execution_count": null,
   "id": "e9a8433a-44a2-4684-81d3-376877ff44df",
   "metadata": {},
   "outputs": [],
   "source": [
    "# group the data by product line and calculate average unit price and quantities of each product line\n",
    "product_line_data = df.groupby('Product line')['Unit price', 'Quantity'].mean()\n",
    "\n",
    "# print the average unit prices and quantities sold for each product line\n",
    "print(product_line_data)\n",
    "\n",
    "# visualize the average unit prices and quantities sold for each product line with bar chart\n",
    "product_line_data.head().plot(kind='bar', title='Average Unit Prices and Quantities Sold for Each Product Line')"
   ]
  },
  {
   "cell_type": "code",
   "execution_count": null,
   "id": "fb498203-6406-4e23-b985-cac7be7bc728",
   "metadata": {},
   "outputs": [],
   "source": [
    "#visualize average unit prices for each product line\n",
    "product_line_data['Unit price'].plot(kind='bar', title='Average Unit Price of each Product Line')"
   ]
  },
  {
   "cell_type": "code",
   "execution_count": null,
   "id": "70634dd8-a5ed-467e-bf0c-1769d9373668",
   "metadata": {},
   "outputs": [],
   "source": [
    "# visualize average quantity for each product line\n",
    "product_line_data['Quantity'].plot(kind='bar', title='Average of Quantity per product line')"
   ]
  },
  {
   "attachments": {},
   "cell_type": "markdown",
   "id": "4d925a8b-0b91-4f91-99fd-7c2b9ca93817",
   "metadata": {
    "tags": []
   },
   "source": [
    "### The average gross margin anfd gross income for each product line"
   ]
  },
  {
   "cell_type": "code",
   "execution_count": null,
   "id": "885ecf3f-b236-4376-9ed8-b41b8bcc3a38",
   "metadata": {},
   "outputs": [],
   "source": [
    "# group the data by product line and calculate average gross margin percentage and gross income for each product line\n",
    "product_line_data2 = df.groupby('Product line')['gross margin percentage', 'gross income'].mean()\n",
    "\n",
    "# print the average gross margin anfd gross income for each product line\n",
    "print(product_line_data2)"
   ]
  },
  {
   "cell_type": "code",
   "execution_count": null,
   "id": "7ab1deca-249d-4df6-96f5-d899cdb60bb5",
   "metadata": {},
   "outputs": [],
   "source": [
    "# visualize the average gross margin anfd gross income for each product line\n",
    "product_line_data2.head(10).plot(kind='bar', title='Average of Gross Margin and Gross Income for Each Product Line')"
   ]
  },
  {
   "attachments": {},
   "cell_type": "markdown",
   "id": "05279d8b-0751-4aa3-a9de-9d945642a374",
   "metadata": {},
   "source": [
    "### The average custome ratings for each product line"
   ]
  },
  {
   "cell_type": "code",
   "execution_count": null,
   "id": "bb1f3204-750f-4041-87c3-17b0488154b9",
   "metadata": {},
   "outputs": [],
   "source": [
    "# group the data by product line and calculate average rating of each product line\n",
    "product_line_data3 = df.groupby('Product line')['Rating'].mean()\n",
    "\n",
    "# print the average custome ratings for each product line\n",
    "print(product_line_data3)\n",
    "\n",
    "# visualize the average custome ratings for each product line\n",
    "product_line_data3.plot(kind='bar', title='Average Customer Rating foe Each Product Line')"
   ]
  },
  {
   "attachments": {},
   "cell_type": "markdown",
   "id": "1f4463dc-ed2a-4a83-ae3c-cd3db859609d",
   "metadata": {},
   "source": [
    "### The most popular branches of the supermarket in terms of sales and customer ratings?"
   ]
  },
  {
   "cell_type": "code",
   "execution_count": null,
   "id": "10e45fce-f6d2-4975-a79b-d7702b991585",
   "metadata": {},
   "outputs": [],
   "source": [
    "# group the data by branch and calculate the total sales and average customer rating for each branch\n",
    "branch_data = df.groupby('Branch')['Total', 'Rating'].agg(['sum', 'mean'])\n",
    "\n",
    "# sort the branches by total sales in descending order\n",
    "branch_data = branch_data.sort_values(('Total', 'sum'), ascending=False)\n",
    "\n",
    "# print the most popular branches of the supermarket in terms of sales and customer rating\n",
    "print(\"most popular branches :\")\n",
    "print(branch_data)\n",
    "\n",
    "# visualize the most popular branches of the supermarket in terms of sales and customer rating\n",
    "branch_data.head(10).plot(kind='bar', title='Most Popular Branch in Sales and Customer Ratings')"
   ]
  },
  {
   "attachments": {},
   "cell_type": "markdown",
   "id": "8324f9a3-3437-452b-883e-51da3ec8173a",
   "metadata": {},
   "source": [
    "### The most popular cities for the supermarket in terms of sales and customer ratings"
   ]
  },
  {
   "cell_type": "code",
   "execution_count": null,
   "id": "44a26bb3-2dd5-4a28-950b-14ddd0befafa",
   "metadata": {},
   "outputs": [],
   "source": [
    " # group the data by city and calculate total sales and average customer ratings for each city\n",
    "city_data = df.groupby('City')['Total', 'Rating'].agg(['sum', 'mean'])\n",
    "\n",
    "# sort the cities by total sales in decending order\n",
    "city_data = city_data.sort_values(('Total', 'sum'), ascending=False)\n",
    "\n",
    "# print the most popular cities for the supermarket in terms of sales and customer ratings\n",
    "print(\"Most popular cities for the supermarket\")\n",
    "print(city_data)\n",
    "\n",
    "#visualize the most popular cities for the supermarket in terms of sales and customer ratings\n",
    "city_data.plot(kind='bar', title= 'Most Popular Cities in Sales  and Customer Rating')"
   ]
  },
  {
   "attachments": {},
   "cell_type": "markdown",
   "id": "c7faf050-837a-4e35-8d8b-47b518a590fb",
   "metadata": {},
   "source": [
    "### The characteristics of the most customers rating in term of gender, customer type, payment method, and product line"
   ]
  },
  {
   "cell_type": "code",
   "execution_count": null,
   "id": "5d20f4e5-9300-48cb-b6ac-c5e57757e7af",
   "metadata": {},
   "outputs": [],
   "source": [
    "# group the data by gender, customer type, payment method, and product line and calculate the average customer rating for each group\n",
    "customer_data = df.groupby(['Gender', 'Customer type', 'Payment', 'Product line'])['Rating'].mean()\n",
    "\n",
    "# sort the group by average customer rating by descending order\n",
    "customer_data = customer_data.sort_values(ascending=False)\n",
    "\n",
    "# print the characteristics of the most customers rating in term of gender, customer type, payment method, and product line\n",
    "print(customer_data.head(10))"
   ]
  },
  {
   "cell_type": "code",
   "execution_count": null,
   "id": "6b80e322-3a0d-48c6-a1f7-241a44def886",
   "metadata": {},
   "outputs": [],
   "source": [
    "# visualize the characteristics of the most customers rating in term of gender, customer type, payment method, and product line\n",
    "customer_data.head(10).plot(kind='bar', title='Top Group With The Hightest Average Customer Rating')"
   ]
  },
  {
   "attachments": {},
   "cell_type": "markdown",
   "id": "8dcf142d-b816-4d65-bd56-5f4b2c7c31a8",
   "metadata": {},
   "source": [
    "### To analyze and visualize total sales per month, transactions per week, transactions per day, and transactions per hour"
   ]
  },
  {
   "cell_type": "code",
   "execution_count": null,
   "id": "91e2528d-ea67-41b5-8e71-c77f22dee597",
   "metadata": {},
   "outputs": [],
   "source": [
    "# calculate the total sales per month\n",
    "df['Date'] = pd.to_datetime(df['Date'])\n",
    "\n",
    "# group the data by date formatting the date as the full name of the month (%B) and calculate total sales for each months\n",
    "monthly_sales = df.groupby(df['Date'].dt.strftime('%B'))['Total'].sum()\n",
    "\n",
    "# sorting mobthly sales by ascending order\n",
    "monthly_sales = monthly_sales.sort_values(ascending=True)\n",
    "\n",
    "# print total sales per month\n",
    "print(monthly_sales)\n",
    "\n",
    "# visualize total sales per month\n",
    "monthly_sales.plot(kind='bar', title='Monthly Sales')"
   ]
  },
  {
   "cell_type": "code",
   "execution_count": null,
   "id": "8bd08358-027a-41c9-9223-0aac4af48b1a",
   "metadata": {},
   "outputs": [],
   "source": [
    "# calculate the total number of transactions per week\n",
    "df['Date'] = pd.to_datetime(df['Date'])\n",
    "\n",
    "# group the data by date formatting the date as the week start by monday (%W) and calculate the total number of transactions per week\n",
    "transactions_per_week = df.groupby(df['Date'].dt.strftime('%W'))['Invoice ID'].nunique()\n",
    "\n",
    "# print the total number of transactions per week\n",
    "print(transactions_per_week)\n",
    "\n",
    "# visualize the total number of transactions per week\n",
    "transactions_per_week.plot(kind='bar', title='Transactions Per Week')"
   ]
  },
  {
   "cell_type": "code",
   "execution_count": null,
   "id": "d06b2de2-9fad-47f1-a12e-6d2a783eaecd",
   "metadata": {},
   "outputs": [],
   "source": [
    "# calculate the total number of transactions per day\n",
    "df['Date'] = pd.to_datetime(df['Date'])\n",
    "\n",
    "# group the data by Date as the days(%a) and calculate the total transaction per day\n",
    "transactions_per_day = df.groupby(df['Date'].dt.strftime('%a'))['Total'].nunique()\n",
    "\n",
    "# print the total number of transactions per day\n",
    "print(transactions_per_day)\n",
    "\n",
    "# visualize the total number of transactions per day\n",
    "transactions_per_day.plot(kind='bar', title='Transactions Per Day')"
   ]
  },
  {
   "cell_type": "code",
   "execution_count": null,
   "id": "603e56d6-d9f9-47dd-8db2-f1063945d426",
   "metadata": {},
   "outputs": [],
   "source": [
    "# calculate the total transactions per hour\n",
    "df['Time'] = pd.to_datetime(df['Time'])\n",
    "\n",
    "# group the data by time and formating as hours(%H) and calculate total transaction of hour\n",
    "transactions_per_hour = df.groupby(df['Time'].dt.strftime('%H'))['Invoice ID'].nunique()\n",
    "\n",
    "# print the transaction per hour\n",
    "print(transactions_per_hour)\n",
    "\n",
    "# visualize the transaction per hour\n",
    "transactions_per_hour.plot(kind='bar', title='Transactions Per Hour')"
   ]
  },
  {
   "attachments": {},
   "cell_type": "markdown",
   "id": "3fb277f7-6c7f-4c8a-8cb5-bc99c4b77ae1",
   "metadata": {},
   "source": [
    "### The most commonly purchased products on weekends, and how does this compare to weekday"
   ]
  },
  {
   "cell_type": "code",
   "execution_count": null,
   "id": "87048c62-ef9a-45b3-bf5e-8ce05833d638",
   "metadata": {},
   "outputs": [],
   "source": [
    "# group the data by product line and date of the week and calculate total quantity sold for each group\n",
    "product_data = df.groupby(['Product line', df['Date'].dt.strftime('%a')])['Quantity'].sum()\n",
    "\n",
    "# select the group for weekend and weekday\n",
    "weekend_data = product_data.loc[:, ['Sat', 'Sun']]\n",
    "weekday_data = product_data.loc[:, ['Mon','Tue','Wed','Thu','Fri']]\n",
    "\n",
    "# calculate the total quantity for each product line on weekend and weekday\n",
    "weekend_data = weekend_data.groupby('Product line').sum()\n",
    "weekday_data = weekday_data.groupby('Product line').sum()\n",
    "\n",
    "# sort the data in decending order\n",
    "weekend_data = weekend_data.sort_values(ascending=False)\n",
    "weekday_data = weekday_data.sort_values(ascending=False)"
   ]
  },
  {
   "cell_type": "code",
   "execution_count": null,
   "id": "5cef4f97-8127-45a9-9211-c2f0ddca9b82",
   "metadata": {},
   "outputs": [],
   "source": [
    "# print top product on weekend\n",
    "print(weekend_data)\n",
    "\n",
    "#visualize top product line on weekend\n",
    "weekend_data.plot(kind='bar', title='Top Product Line On Weekend')"
   ]
  },
  {
   "cell_type": "code",
   "execution_count": null,
   "id": "bcdc8a4e-6f99-4e9a-820c-5929a63fdbba",
   "metadata": {},
   "outputs": [],
   "source": [
    "# print top product line on weekend\n",
    "print(weekday_data)\n",
    "\n",
    "# visualize top of the product line on weekend\n",
    "weekday_data.plot(kind='bar', title='Top Product Line On Weekday')"
   ]
  },
  {
   "attachments": {},
   "cell_type": "markdown",
   "id": "d6891bf8-5b39-4c3f-93d6-cde4eb8c607b",
   "metadata": {},
   "source": [
    "### The relationship between date and time of transaction and the customes's gender, type ,and payment method"
   ]
  },
  {
   "cell_type": "code",
   "execution_count": null,
   "id": "fd5e9f6f-28b0-473f-8d39-8c22707d0b5a",
   "metadata": {},
   "outputs": [],
   "source": [
    "# group the data by gender, customer type, payment method, and date and time and calculate the total quantity sold for each group\n",
    "transaction_data = df.groupby(['Gender', 'Customer type', 'Payment', 'Date', 'Time'])['Quantity'].sum()\n",
    "\n",
    "#print the top 10 groups with the highest total quantity sold\n",
    "print(transaction_data.sort_values(ascending=False))"
   ]
  },
  {
   "cell_type": "code",
   "execution_count": null,
   "id": "a39e033b-53c1-455c-8627-fc18c228e2e9",
   "metadata": {},
   "outputs": [],
   "source": [
    "from pandas.plotting import scatter_matrix\n",
    "\n",
    "transaction_data = transaction_data.to_frame()\n",
    "\n",
    "#create a scatter matrix plot of the data\n",
    "scatter_matrix(transaction_data, alpha=0.2, figsize=(6,6), diagonal='kde')\n",
    "\n",
    "#show the plot\n",
    "plt.show()"
   ]
  },
  {
   "attachments": {},
   "cell_type": "markdown",
   "id": "efeb1e4a-4f5a-4821-bd1b-022f30b4b482",
   "metadata": {},
   "source": [
    "Overall, the scatter matrix plot is a compact and efficient way to visualize the relationships between multiple variables and to identify potential trends or patterns in the data. It can be particularly useful in exploratory data analysis, where you are trying to gain an understanding of the data and identify potential areas for further investigation."
   ]
  },
  {
   "attachments": {},
   "cell_type": "markdown",
   "id": "eca2d49d-a20a-40b1-9768-d07d71772847",
   "metadata": {},
   "source": [
    "### The relationship between the date and time of a transaction and the total amount spent"
   ]
  },
  {
   "cell_type": "code",
   "execution_count": null,
   "id": "d3f3496c-adaa-4e76-982a-4f8404a9ae91",
   "metadata": {},
   "outputs": [],
   "source": [
    "#create the joint plot\n",
    "sns.jointplot(x='Date', y='Time', data=transaction_data, kind='scatter')\n",
    "\n",
    "#add labels and title\n",
    "plt.xlabel('Date')\n",
    "plt.ylabel('Time')\n",
    "plt.title('Transaction Date and Time vs. Total Amount Spent')\n",
    "\n",
    "#show the plot\n",
    "plt.show()"
   ]
  },
  {
   "attachments": {},
   "cell_type": "markdown",
   "id": "9749c7f1-8d40-427d-b06c-78bcebaf0ac1",
   "metadata": {},
   "source": [
    "This jointplot can show the relationship between the date and time of a transaction and the total amount spent. This can be useful for identifying trends or patterns in customer spending habits over time.\n",
    "\n",
    "The plot itself consists of two histograms - one for the date and one for the time - as well as a scatter plot showing the relationship between the two variables. The color of the points in the scatter plot indicates the value of the total amount spent, allowing you to see at a glance how the amount spent varies over time.\n",
    "\n",
    "Overall, the jointplot provides a visual representation of the relationship between the date and time of a transaction and the total amount spent, allowing you to quickly identify trends and patterns in the data."
   ]
  },
  {
   "attachments": {},
   "cell_type": "markdown",
   "id": "677a88f3-f07a-47d5-81d3-07e91fda982f",
   "metadata": {},
   "source": [
    "### Check the potential fraud or other unusual activity, such as multiple transactions with the same  invoice ID or outlier that high or low values."
   ]
  },
  {
   "cell_type": "code",
   "execution_count": null,
   "id": "6fca6b94-eb35-4990-971c-cb2bdbebbc39",
   "metadata": {},
   "outputs": [],
   "source": [
    "# identify transactions with duplicate invoice ID for get the boolean mask indicating duplicated rows:\n",
    "duplicate_invoice = df[df.duplicated(['Invoice ID'])]\n",
    "print(duplicate_invoice[['Invoice ID', 'Branch', 'City', 'Product line', 'Unit price', 'Quantity', 'Total', 'Date', 'Time', 'Payment']])\n",
    "\n",
    "#calculate the z-score of each transaction\n",
    "df['z_score'] = (df['Total']-df['Total'].mean())/df['Total'].std()\n",
    "\n",
    "#identify transactions with a z-score greater than 3 or less than -3\n",
    "outliner = df[(df['z_score']>3) | (df['z_score']<-3)]\n",
    "\n",
    "#print the characteristics of transactions with unusually high or low values\n",
    "print(outliner[['Invoice ID', 'Branch', 'City', 'Product line', 'Unit price', 'Quantity', 'Total', 'Date', 'Time', 'Payment']])"
   ]
  },
  {
   "attachments": {},
   "cell_type": "markdown",
   "id": "d17a7c91-5242-44c4-8e3e-b5e3b212fea2",
   "metadata": {},
   "source": [
    "Since we got two empty dataframes with no rows, it means that there were no transactions with duplicate invoice IDs or unusually high or low values in the dataset (outliers). This could be because the dataset is small (containing just 3 months worth of transactions) and doesn't contain any transactions with extremely high or low values, or it could be because the input data has already been cleaned and any outlier transactions have been removed"
   ]
  },
  {
   "cell_type": "code",
   "execution_count": null,
   "id": "7a76f6f3-8779-41d9-aada-ab2bfe35ca69",
   "metadata": {},
   "outputs": [],
   "source": [
    "# Export it to CSV for next section\n",
    "df.to_csv(\"supermarket_dataset.csv\", index=False)"
   ]
  },
  {
   "cell_type": "code",
   "execution_count": null,
   "id": "26842b79-8c81-4e20-8d05-a9edd1de9373",
   "metadata": {},
   "outputs": [],
   "source": []
  }
 ],
 "metadata": {
  "kernelspec": {
   "display_name": "Python 3 (ipykernel)",
   "language": "python",
   "name": "python3"
  },
  "language_info": {
   "codemirror_mode": {
    "name": "ipython",
    "version": 3
   },
   "file_extension": ".py",
   "mimetype": "text/x-python",
   "name": "python",
   "nbconvert_exporter": "python",
   "pygments_lexer": "ipython3",
   "version": "3.10.4"
  }
 },
 "nbformat": 4,
 "nbformat_minor": 5
}
